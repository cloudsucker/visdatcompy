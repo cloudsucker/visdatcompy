{
 "cells": [
  {
   "cell_type": "code",
   "execution_count": 1,
   "metadata": {},
   "outputs": [],
   "source": [
    "import cv2\n",
    "import scipy"
   ]
  },
  {
   "cell_type": "code",
   "execution_count": 3,
   "metadata": {},
   "outputs": [],
   "source": [
    "def ImageLoad(image, echo='off'):\n",
    "    if echo == 'on':\n",
    "        print('Loading image ' + image + '...')\n",
    "\n",
    "    img = cv2.cvtColor(cv2.imread(image), cv2.COLOR_BGR2GRAY)#заменена RGB на GRAY\n",
    "    \n",
    "    # Получение текущих размеров изображения\n",
    "    height, width = img.shape[:2]\n",
    "    \n",
    "    # Вычисление новых размеров, сохраняя пропорции\n",
    "    new_width = 128\n",
    "    new_height = int(height * (new_width / width))\n",
    "    \n",
    "    # Масштабирование изображения до новых размеров\n",
    "    resized_img = cv2.resize(img, (new_width, new_height))\n",
    "\n",
    "    return resized_img"
   ]
  },
  {
   "cell_type": "code",
   "execution_count": 4,
   "metadata": {},
   "outputs": [
    {
     "name": "stdout",
     "output_type": "stream",
     "text": [
      "вычислена корреляция с помощью CV\n",
      "вычислена корреляция с помощью SCIPY\n",
      "вычислена многомернаякорреляция с помощью SCIPY\n",
      "CV\n",
      "[[3200.1265 3200.1362 3196.8855 ... 2946.2073 2947.335  2948.0815]\n",
      " [3200.374  3201.1987 3199.4446 ... 2947.2048 2949.1245 2948.7847]\n",
      " [3203.379  3202.8223 3200.3708 ... 2949.993  2950.5027 2948.6523]\n",
      " ...\n",
      " [2625.7515 2627.0996 2630.6338 ... 2604.8171 2610.753  2615.9358]\n",
      " [2624.1958 2625.3118 2627.876  ... 2609.1807 2615.8206 2619.9353]\n",
      " [2625.0588 2626.9956 2627.395  ... 2615.4456 2620.9568 2624.4187]]\n",
      "scipy\n",
      "[[0.24998143 0.33100474 0.53067404 ... 0.5168884  0.19909333 0.04828701]\n",
      " [0.43939507 0.7689878  1.1296077  ... 0.6880388  0.3117754  0.10796299]\n",
      " [0.52876043 1.0950876  1.5054806  ... 1.6324316  1.1461987  0.47187126]\n",
      " ...\n",
      " [0.47187126 1.1461987  1.6324316  ... 1.5054806  1.0950876  0.52876043]\n",
      " [0.10796299 0.3117754  0.6880388  ... 1.1296077  0.7689878  0.43939507]\n",
      " [0.04828701 0.19909333 0.5168884  ... 0.53067404 0.33100474 0.24998143]]\n",
      "scipy\n",
      "[[171  20 202 ...  47  81 120]\n",
      " [135 144  23 ...  39  60 230]\n",
      " [ 56  54 229 ...  35  13 190]\n",
      " ...\n",
      " [150 148 169 ... 136  49 114]\n",
      " [120 159 133 ... 182 164 133]\n",
      " [133 148 202 ... 186 129  22]]\n"
     ]
    }
   ],
   "source": [
    "image1 = ImageLoad(r'C:\\Users\\UserPC\\visual_comparison\\visdatcompy\\dataset_small\\0_1.jpg')\n",
    "image2 = ImageLoad(r'C:\\Users\\UserPC\\visual_comparison\\visdatcompy\\dataset_small\\0_2.jpg')\n",
    "# convert to float32\n",
    "image1_norm = cv2.normalize(image1, None, alpha=0, beta=1, norm_type=cv2.NORM_MINMAX, dtype=cv2.CV_32F)\n",
    "image2_norm = cv2.normalize(image2, None, alpha=0, beta=1, norm_type=cv2.NORM_MINMAX, dtype=cv2.CV_32F)\n",
    "\n",
    "corr_cv = cv2.filter2D(image1_norm,ddepth=-1, kernel = image2_norm)\n",
    "print('вычислена корреляция с помощью CV')\n",
    "corr_scipy = scipy.signal.correlate2d(image1_norm,image2_norm)\n",
    "print('вычислена корреляция с помощью SCIPY')\n",
    "ndimage_corr_scipy = scipy.ndimage.correlate(image1_norm,image2_norm)\n",
    "print('вычислена многомернаякорреляция с помощью SCIPY')\n",
    "\n",
    "print('CV')\n",
    "print(corr_cv)\n",
    "print('scipy signal.correlate2d')\n",
    "print(corr_scipy)\n",
    "print('scipy ndimage.correlate')\n",
    "print(ndimage_corr_scipy)\n"
   ]
  }
 ],
 "metadata": {
  "kernelspec": {
   "display_name": "Python 3",
   "language": "python",
   "name": "python3"
  },
  "language_info": {
   "codemirror_mode": {
    "name": "ipython",
    "version": 3
   },
   "file_extension": ".py",
   "mimetype": "text/x-python",
   "name": "python",
   "nbconvert_exporter": "python",
   "pygments_lexer": "ipython3",
   "version": "3.12.0"
  }
 },
 "nbformat": 4,
 "nbformat_minor": 2
}
