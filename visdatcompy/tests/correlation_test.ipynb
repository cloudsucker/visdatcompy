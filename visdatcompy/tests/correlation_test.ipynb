{
 "cells": [
  {
   "cell_type": "code",
   "execution_count": 3,
   "metadata": {},
   "outputs": [],
   "source": [
    "import cv2\n",
    "import scipy"
   ]
  },
  {
   "cell_type": "code",
   "execution_count": 4,
   "metadata": {},
   "outputs": [],
   "source": [
    "def ImageLoad(image, echo='off'):\n",
    "    if echo == 'on':\n",
    "        print('Loading image ' + image + '...')\n",
    "\n",
    "    img = cv2.cvtColor(cv2.imread(image), cv2.COLOR_BGR2GRAY)#заменена RGB на GRAY\n",
    "    \n",
    "    # Получение текущих размеров изображения\n",
    "    height, width = img.shape[:2]\n",
    "    \n",
    "    # Вычисление новых размеров, сохраняя пропорции\n",
    "    new_width = 128\n",
    "    new_height = int(height * (new_width / width))\n",
    "    \n",
    "    # Масштабирование изображения до новых размеров\n",
    "    resized_img = cv2.resize(img, (new_width, new_height))\n",
    "\n",
    "    return resized_img"
   ]
  },
  {
   "cell_type": "code",
   "execution_count": 7,
   "metadata": {},
   "outputs": [
    {
     "name": "stdout",
     "output_type": "stream",
     "text": [
      "вычислена корреляция с помощью CV\n",
      "вычислена корреляция с помощью SCIPY\n",
      "CV\n",
      "[[1231.9077  1231.5758  1230.2444  ... 1126.4326  1129.2572  1128.9795 ]\n",
      " [1231.9397  1232.6128  1231.5173  ... 1129.2814  1130.9309  1131.7051 ]\n",
      " [1233.1582  1231.6952  1231.2839  ... 1131.9353  1134.2716  1132.775  ]\n",
      " ...\n",
      " [1009.4441  1010.5159  1011.73895 ...  987.20544  990.9632   993.655  ]\n",
      " [1008.0077  1007.6604  1008.83405 ...  990.4036   993.8034   997.8885 ]\n",
      " [1009.1237  1007.5524  1007.58246 ...  993.30914  995.9685  1000.4583 ]]\n",
      "scipy\n",
      "[[0.23518577 0.34493172 0.43970233 ... 0.672954   0.3169703  0.03890291]\n",
      " [0.3158651  0.63224596 1.0088232  ... 1.3333272  0.76960343 0.3174492 ]\n",
      " [0.47073993 0.9366354  1.5551953  ... 1.9586102  1.3385769  0.68454015]\n",
      " ...\n",
      " [0.68454015 1.3385769  1.9586102  ... 1.5551953  0.9366354  0.47073993]\n",
      " [0.3174492  0.76960343 1.3333272  ... 1.0088232  0.63224596 0.3158651 ]\n",
      " [0.03890291 0.3169703  0.672954   ... 0.43970233 0.34493172 0.23518577]]\n",
      "scipy\n",
      "[[1222.2816  1220.485   1220.2523  ... 1118.4675  1119.4476  1121.6309 ]\n",
      " [1222.0532  1221.4265  1220.1196  ... 1120.0466  1122.1304  1122.7458 ]\n",
      " [1223.1375  1221.0048  1220.987   ... 1122.968   1124.7832  1124.0176 ]\n",
      " ...\n",
      " [1018.0522  1021.00604 1018.82623 ...  981.5571   985.83295  990.0466 ]\n",
      " [1016.4468  1017.40234 1017.9625  ...  982.1166   988.48206  992.91364]\n",
      " [1014.36145 1015.22174 1015.4561  ...  987.28986  991.62396  996.58606]]\n"
     ]
    }
   ],
   "source": [
    "image1 = ImageLoad(r'C:\\Users\\UserPC\\visual_comparison\\visdatcompy\\dataset_small\\0_1.jpg')\n",
    "image2 = ImageLoad(r'C:\\Users\\UserPC\\visual_comparison\\visdatcompy\\dataset_small\\0_2.jpg')\n",
    "# convert to float32\n",
    "image1_norm = cv2.normalize(image1, None, alpha=0, beta=1, norm_type=cv2.NORM_MINMAX, dtype=cv2.CV_32F)\n",
    "image2_norm = cv2.normalize(image2, None, alpha=0, beta=1, norm_type=cv2.NORM_MINMAX, dtype=cv2.CV_32F)\n",
    "\n",
    "corr_cv = cv2.filter2D(image1_norm,ddepth=-1, kernel = image2_norm)\n",
    "print('вычислена корреляция с помощью CV')\n",
    "corr_scipy = scipy.signal.correlate2d(image1_norm,image1_norm)\n",
    "print('вычислена корреляция с помощью SCIPY')\n",
    "ndimage_corr_scipy = scipy.ndimage.correlate(image1_norm,image2_norm)\n",
    "print('CV')\n",
    "print(corr_cv)\n",
    "print('scipy')\n",
    "print(corr_scipy)\n",
    "print('scipy')\n",
    "print(ndimage_corr_scipy)\n"
   ]
  }
 ],
 "metadata": {
  "kernelspec": {
   "display_name": "Python 3",
   "language": "python",
   "name": "python3"
  },
  "language_info": {
   "codemirror_mode": {
    "name": "ipython",
    "version": 3
   },
   "file_extension": ".py",
   "mimetype": "text/x-python",
   "name": "python",
   "nbconvert_exporter": "python",
   "pygments_lexer": "ipython3",
   "version": "3.12.0"
  }
 },
 "nbformat": 4,
 "nbformat_minor": 2
}
