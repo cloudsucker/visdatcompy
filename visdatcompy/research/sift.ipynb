{
 "cells": [
  {
   "cell_type": "code",
   "execution_count": 16,
   "metadata": {},
   "outputs": [],
   "source": [
    "import os\n",
    "import cv2\n",
    "import time\n",
    "import numpy as np\n",
    "import matplotlib.pyplot as plt\n",
    "from ipywidgets import interact\n",
    "from scipy import stats\n",
    "\n",
    "from visdatcompy.common.utils import scan_directory"
   ]
  },
  {
   "cell_type": "code",
   "execution_count": 1,
   "metadata": {},
   "outputs": [
    {
     "ename": "NameError",
     "evalue": "name 'time' is not defined",
     "output_type": "error",
     "traceback": [
      "\u001b[1;31m---------------------------------------------------------------------------\u001b[0m",
      "\u001b[1;31mNameError\u001b[0m                                 Traceback (most recent call last)",
      "Cell \u001b[1;32mIn[1], line 19\u001b[0m\n\u001b[0;32m     15\u001b[0m     resized_img \u001b[38;5;241m=\u001b[39m cv2\u001b[38;5;241m.\u001b[39mresize(img, (new_width, new_height))\n\u001b[0;32m     17\u001b[0m     \u001b[38;5;28;01mreturn\u001b[39;00m resized_img\n\u001b[1;32m---> 19\u001b[0m descs_time_start \u001b[38;5;241m=\u001b[39m \u001b[43mtime\u001b[49m\u001b[38;5;241m.\u001b[39mtime()\n\u001b[0;32m     21\u001b[0m feature_extractor \u001b[38;5;241m=\u001b[39m cv2\u001b[38;5;241m.\u001b[39mSIFT_create()\n\u001b[0;32m     23\u001b[0m t \u001b[38;5;241m=\u001b[39m \u001b[38;5;241m0\u001b[39m\n",
      "\u001b[1;31mNameError\u001b[0m: name 'time' is not defined"
     ]
    }
   ],
   "source": [
    "def ImageLoad(image, echo='off'):\n",
    "    if echo == 'on':\n",
    "        print('Loading image ' + image + '...')\n",
    "\n",
    "    img = cv2.cvtColor(cv2.imread(image), cv2.COLOR_BGR2RGB)\n",
    "    \n",
    "    # Получение текущих размеров изображения\n",
    "    height, width = img.shape[:2]\n",
    "    \n",
    "    # Вычисление новых размеров, сохраняя пропорции\n",
    "    new_width = 512\n",
    "    new_height = int(height * (new_width / width))\n",
    "    \n",
    "    # Масштабирование изображения до новых размеров\n",
    "    resized_img = cv2.resize(img, (new_width, new_height))\n",
    "\n",
    "    return resized_img\n",
    "\n",
    "descs_time_start = time.time()\n",
    "\n",
    "feature_extractor = cv2.SIFT_create()\n",
    "\n",
    "t = 0\n",
    "Xt = np.zeros((10000000,128))\n",
    "yt = np.zeros((10000000,))\n",
    "\n",
    "images_path = scan_directory(r\"datasets\\small_drone_test_compressed\")\n",
    "\n",
    "images_fpath = list(map(lambda x: os.path.join(x[0], x[1]), images_path))\n",
    "\n",
    "N = len(images_fpath)\n",
    "print (images_fpath)\n",
    "\n",
    "for i in range(N):\n",
    "  I = ImageLoad(images_fpath[i], echo='on')\n",
    "  J = cv2.cvtColor(I, cv2.COLOR_RGB2GRAY)\n",
    "  # SIFT extraction\n",
    "  kp, desc = feature_extractor.detectAndCompute(J, None)\n",
    "  ni = desc.shape[0]\n",
    "  for j in range(ni):\n",
    "    f = desc[j,:]\n",
    "    Xt[t,:] =  f/np.linalg.norm(f)\n",
    "    yt[t] = i\n",
    "    t = t+1\n",
    "\n",
    "  print('... '+str(ni)+' Дескрипторы были извлечены.')\n",
    "\n",
    "X = Xt[0:t,:]\n",
    "y = yt[0:t]\n",
    "print('Количество дескрипторов SIFT в '+str(N)+' images: '+str(t))\n",
    "\n",
    "descs_time_end = time.time()\n",
    "descs_time = descs_time_end - descs_time_start\n",
    "\n",
    "print(f'Общее время выполнения: {descs_time}')"
   ]
  },
  {
   "cell_type": "code",
   "execution_count": 22,
   "metadata": {},
   "outputs": [
    {
     "data": {
      "application/vnd.jupyter.widget-view+json": {
       "model_id": "9d6b58eaf7a74d0c8a8ed552bb909277",
       "version_major": 2,
       "version_minor": 0
      },
      "text/plain": [
       "interactive(children=(IntSlider(value=19, description='itest', max=38), Output()), _dom_classes=('widget-inter…"
      ]
     },
     "metadata": {},
     "output_type": "display_data"
    },
    {
     "data": {
      "text/plain": [
       "<function __main__.visualize_similar_images(itest)>"
      ]
     },
     "execution_count": 22,
     "metadata": {},
     "output_type": "execute_result"
    }
   ],
   "source": [
    "def find_similar_image(itest, X, y):\n",
    "    ik = itest\n",
    "    ii = np.where(y==ik)[0]  \n",
    "    jj = np.where(y!=ik)[0]  \n",
    "\n",
    "    Xi = X[ii,:]  \n",
    "    Xj = X[jj,:]  \n",
    "    yj = y[jj]    \n",
    "\n",
    "    Dt = np.dot(Xj,Xi.T)\n",
    "\n",
    "    n = Xi.shape[0]\n",
    "\n",
    "    z = np.zeros((n,))\n",
    "\n",
    "    # d = np.zeros((n,))\n",
    "    d = []\n",
    "\n",
    "    for k in range(n):\n",
    "        h = Dt[:,k]         \n",
    "        i = h.max()         \n",
    "        z[k] = i\n",
    "        j = np.where(h==i)[0]  \n",
    "\n",
    "        # d[k] = yj[j]  \n",
    "        d.append(yj[j[0]])\n",
    "\n",
    "    kk = np.where(z > 0.9)\n",
    "\n",
    "    # m = stats.mode(d[kk])\n",
    "    m = stats.mode(np.array(d)[kk])\n",
    "    \n",
    "    ifound = int(m[0]) \n",
    "\n",
    "    return ifound\n",
    "\n",
    "\n",
    "def visualize_similar_images(itest):\n",
    "    ifound = find_similar_image(itest, X, y)\n",
    "    I = ImageLoad(images_fpath[itest],echo='on')\n",
    "    print('Тестовое изображение: '+str(itest))\n",
    "\n",
    "    plt.imshow(I,cmap='gray')\n",
    "    plt.axis('off')\n",
    "    plt.show()\n",
    "    print(' ')\n",
    "\n",
    "    J = ImageLoad(images_fpath[ifound],echo='on')\n",
    "    print('Для изображения '+str(itest)+', наиболее похожее изображение: '+str(ifound)+'.')\n",
    "    plt.imshow(J,cmap='gray')\n",
    "    plt.axis('off')\n",
    "    plt.show()\n",
    "    print('--------------------------------------------------')\n",
    "\n",
    "# Пример использования с ipywidgets interact\n",
    "interact(visualize_similar_images, itest=(0, 38))\n"
   ]
  }
 ],
 "metadata": {
  "kernelspec": {
   "display_name": "Python 3",
   "language": "python",
   "name": "python3"
  },
  "language_info": {
   "codemirror_mode": {
    "name": "ipython",
    "version": 3
   },
   "file_extension": ".py",
   "mimetype": "text/x-python",
   "name": "python",
   "nbconvert_exporter": "python",
   "pygments_lexer": "ipython3",
   "version": "3.12.0"
  }
 },
 "nbformat": 4,
 "nbformat_minor": 2
}
