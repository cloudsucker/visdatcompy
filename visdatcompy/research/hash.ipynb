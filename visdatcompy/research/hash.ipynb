{
 "cells": [
  {
   "cell_type": "code",
   "execution_count": 78,
   "metadata": {},
   "outputs": [],
   "source": [
    "import cv2\n",
    "import pandas as pd\n",
    "from ipywidgets import interact\n",
    "import matplotlib.pyplot as plt\n",
    "\n",
    "dataset_path = r'datasets\\small_drone_test_compressed'\n",
    "\n",
    "def ImageLoad(image, echo='off'):\n",
    "    if echo == 'on':\n",
    "        print(f'Открываем изображение {dataset_path + '\\\\' + image}...')\n",
    "\n",
    "    img = cv2.cvtColor(cv2.imread(dataset_path + '\\\\' + image), cv2.COLOR_BGR2RGB)\n",
    "    \n",
    "    # Получение текущих размеров изображения\n",
    "    height, width = img.shape[:2]\n",
    "    \n",
    "    # Вычисление новых размеров, сохраняя пропорции\n",
    "    new_width = 512\n",
    "    new_height = int(height * (new_width / width))\n",
    "    \n",
    "    # Масштабирование изображения до новых размеров\n",
    "    resized_img = cv2.resize(img, (new_width, new_height))\n",
    "\n",
    "    return resized_img\n",
    "\n",
    "def visualize_similar_images(method, image_pair):\n",
    "    pairs = pd.read_csv(fr'results\\hash_results\\{method}.csv')\n",
    "    \n",
    "    first_image = pairs.iloc[image_pair - 1, 0]\n",
    "    second_image = pairs.iloc[image_pair - 1, 1]\n",
    "\n",
    "    I = ImageLoad(first_image, echo='on')\n",
    "    print(f'Тестовое изображение: {first_image}')\n",
    "\n",
    "    plt.imshow(I, cmap='gray')\n",
    "    plt.axis('off')\n",
    "    plt.show()\n",
    "    print(' ')\n",
    "\n",
    "    J = ImageLoad(second_image, echo='on')\n",
    "    print(f'Для изображения {first_image}, наиболее похожее изображение: {second_image}')\n",
    "\n",
    "    plt.imshow(J, cmap='gray')\n",
    "    plt.axis('off')\n",
    "    plt.show()\n",
    "\n",
    "    print('--------------------------------------------------')"
   ]
  },
  {
   "cell_type": "code",
   "execution_count": 81,
   "metadata": {},
   "outputs": [
    {
     "data": {
      "application/vnd.jupyter.widget-view+json": {
       "model_id": "655e4fbb6ad34cc4982ad71a8f787841",
       "version_major": 2,
       "version_minor": 0
      },
      "text/plain": [
       "interactive(children=(Dropdown(description='method', options=('average', 'block_mean', 'color_moment', 'marr_h…"
      ]
     },
     "metadata": {},
     "output_type": "display_data"
    },
    {
     "data": {
      "text/plain": [
       "<function __main__.visualize_similar_images(method, image_pair)>"
      ]
     },
     "execution_count": 81,
     "metadata": {},
     "output_type": "execute_result"
    }
   ],
   "source": [
    "methods = ['average', 'block_mean', 'color_moment', 'marr_hildreth', 'p', 'radial_variance'] \n",
    "\n",
    "interact(visualize_similar_images, method=methods, image_pair=(1, 39))"
   ]
  }
 ],
 "metadata": {
  "kernelspec": {
   "display_name": "Python 3",
   "language": "python",
   "name": "python3"
  },
  "language_info": {
   "codemirror_mode": {
    "name": "ipython",
    "version": 3
   },
   "file_extension": ".py",
   "mimetype": "text/x-python",
   "name": "python",
   "nbconvert_exporter": "python",
   "pygments_lexer": "ipython3",
   "version": "3.12.0"
  }
 },
 "nbformat": 4,
 "nbformat_minor": 2
}
