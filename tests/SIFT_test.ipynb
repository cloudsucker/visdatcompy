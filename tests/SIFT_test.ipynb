{
 "cells": [
  {
   "cell_type": "code",
   "execution_count": 4,
   "metadata": {},
   "outputs": [],
   "source": [
    "import os\n",
    "import cv2\n",
    "import numpy as np\n",
    "import matplotlib.pyplot as plt\n",
    "from ipywidgets import interact\n",
    "from scipy import stats\n",
    "from common.utils import scan_directory"
   ]
  },
  {
   "cell_type": "code",
   "execution_count": 5,
   "metadata": {},
   "outputs": [
    {
     "name": "stdout",
     "output_type": "stream",
     "text": [
      "['dataset_small\\\\047.jpg', 'dataset_small\\\\055.jpg', 'dataset_small\\\\121.jpg']\n",
      "Loading image dataset_small\\047.jpg...\n",
      "... 667 Дескрипторы были извлечены.\n",
      "Loading image dataset_small\\055.jpg...\n",
      "... 808 Дескрипторы были извлечены.\n",
      "Loading image dataset_small\\121.jpg...\n",
      "... 537 Дескрипторы были извлечены.\n",
      "Количество дескрипторов SIFT в 3 images: 2012\n"
     ]
    }
   ],
   "source": [
    "def ImageLoad(image, echo='off'):\n",
    "    if echo == 'on':\n",
    "        print('Loading image ' + image + '...')\n",
    "\n",
    "    img = cv2.cvtColor(cv2.imread(image), cv2.COLOR_BGR2RGB)\n",
    "    \n",
    "    # Получение текущих размеров изображения\n",
    "    height, width = img.shape[:2]\n",
    "    \n",
    "    # Вычисление новых размеров, сохраняя пропорции\n",
    "    new_width = 512\n",
    "    new_height = int(height * (new_width / width))\n",
    "    \n",
    "    # Масштабирование изображения до новых размеров\n",
    "    resized_img = cv2.resize(img, (new_width, new_height))\n",
    "\n",
    "    return resized_img\n",
    "    \n",
    "feature_extractor = cv2.SIFT_create()\n",
    "\n",
    "t = 0\n",
    "Xt = np.zeros((50000,128))\n",
    "yt = np.zeros((50000,))\n",
    "\n",
    "images_path = scan_directory(\"dataset_small\")\n",
    "#print(len(scan_directory(\"dataset_small\")))\n",
    "images_fpath = list(map(lambda x: os.path.join(x[0], x[1]), images_path))\n",
    "\n",
    "N = len(images_fpath)\n",
    "print (images_fpath)\n",
    "for i in range(N):\n",
    "  I = ImageLoad(images_fpath[i], echo='on')\n",
    "  J = cv2.cvtColor(I, cv2.COLOR_RGB2GRAY)\n",
    "  # SIFT extraction\n",
    "  kp, desc = feature_extractor.detectAndCompute(J, None)\n",
    "  ni = desc.shape[0]\n",
    "  for j in range(ni):\n",
    "    f = desc[j,:]\n",
    "    Xt[t,:] =  f/np.linalg.norm(f)\n",
    "    yt[t] = i\n",
    "    t = t+1\n",
    "\n",
    "  print('... '+str(ni)+' Дескрипторы были извлечены.')\n",
    "\n",
    "X = Xt[0:t,:]\n",
    "y = yt[0:t]\n",
    "print('Количество дескрипторов SIFT в '+str(N)+' images: '+str(t))"
   ]
  },
  {
   "cell_type": "code",
   "execution_count": 6,
   "metadata": {},
   "outputs": [
    {
     "data": {
      "application/vnd.jupyter.widget-view+json": {
       "model_id": "240a0bcfa2d04ea0b7dde16b6de0899d",
       "version_major": 2,
       "version_minor": 0
      },
      "text/plain": [
       "interactive(children=(IntSlider(value=1, description='itest', max=2), Output()), _dom_classes=('widget-interac…"
      ]
     },
     "metadata": {},
     "output_type": "display_data"
    },
    {
     "data": {
      "text/plain": [
       "<function __main__.visualize_similar_images(itest)>"
      ]
     },
     "execution_count": 6,
     "metadata": {},
     "output_type": "execute_result"
    }
   ],
   "source": [
    "def find_similar_image(itest, X, y):\n",
    "    ik = itest\n",
    "    ii = np.where(y==ik)[0]  \n",
    "    jj = np.where(y!=ik)[0]  \n",
    "\n",
    "    Xi = X[ii,:]  \n",
    "    Xj = X[jj,:]  \n",
    "    yj = y[jj]    \n",
    "\n",
    "    Dt = np.dot(Xj,Xi.T)\n",
    "\n",
    "    n = Xi.shape[0]\n",
    "\n",
    "    z = np.zeros((n,))\n",
    "    d = np.zeros((n,))\n",
    "\n",
    "    for k in range(n):\n",
    "        h    = Dt[:,k]         \n",
    "        i    = h.max()         \n",
    "        z[k] = i\n",
    "        j    = np.where(h==i)  \n",
    "        d[k] = yj[j]           \n",
    "\n",
    "    kk = np.where(z>0.9)\n",
    "\n",
    "    m = stats.mode(d[kk])\n",
    "    ifound = int(m[0]) \n",
    "\n",
    "    return ifound\n",
    "\n",
    "def visualize_similar_images(itest):\n",
    "    ifound = find_similar_image(itest, X, y)\n",
    "    I = ImageLoad(images_fpath[itest],echo='on')\n",
    "    print('Тестовое изображение: '+str(itest))\n",
    "    plt.imshow(I,cmap='gray')\n",
    "    plt.axis('off')\n",
    "    plt.show()\n",
    "    print(' ')\n",
    "    J = ImageLoad(images_fpath[ifound],echo='on')\n",
    "    print('Для изображения '+str(itest)+', наиболее похожее изображение: '+str(ifound)+'.')\n",
    "    plt.imshow(J,cmap='gray')\n",
    "    plt.axis('off')\n",
    "    plt.show()\n",
    "    print('--------------------------------------------------')\n",
    "\n",
    "# Пример использования с ipywidgets interact\n",
    "interact(visualize_similar_images, itest=(0, 2))\n"
   ]
  }
 ],
 "metadata": {
  "kernelspec": {
   "display_name": "Python 3",
   "language": "python",
   "name": "python3"
  },
  "language_info": {
   "codemirror_mode": {
    "name": "ipython",
    "version": 3
   },
   "file_extension": ".py",
   "mimetype": "text/x-python",
   "name": "python",
   "nbconvert_exporter": "python",
   "pygments_lexer": "ipython3",
   "version": "3.12.0"
  }
 },
 "nbformat": 4,
 "nbformat_minor": 2
}
