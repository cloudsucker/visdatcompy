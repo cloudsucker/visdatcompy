{
 "cells": [
  {
   "cell_type": "code",
   "execution_count": 2,
   "metadata": {},
   "outputs": [],
   "source": [
    "from visdatcompy import Dataset, VisDatCompare\n",
    "\n",
    "# Создаём объекты класса Dataset\n",
    "dataset1 = Dataset(\"datasets/drone\")\n",
    "dataset2 = Dataset(\"datasets/drone_duplicates\")\n",
    "\n",
    "# Создаём объект класса DatasetsCompare поиска дублей и схожестей\n",
    "compy = VisDatCompare(dataset1, dataset2)"
   ]
  },
  {
   "cell_type": "code",
   "execution_count": null,
   "metadata": {},
   "outputs": [],
   "source": [
    "# Ищем дубликаты изображений по метаданным:\n",
    "compy.duplicate_finder.find_exif_duplicates()\n",
    "print(compy.duplicate_finder.exif_duplicates)"
   ]
  },
  {
   "cell_type": "code",
   "execution_count": null,
   "metadata": {},
   "outputs": [],
   "source": [
    "# Ищем дубликаты изображений с помощью Pixel to Pixel метода:\n",
    "compy.duplicate_finder.find_pix2pix_duplicates()\n",
    "print(compy.duplicate_finder.pix2pix_duplicates)"
   ]
  },
  {
   "cell_type": "code",
   "execution_count": null,
   "metadata": {},
   "outputs": [],
   "source": [
    "# Ищем схожие изображения по Hash значениям:\n",
    "compy.similars_finder.find_hash_similars(\"p\")\n",
    "print(compy.similars_finder.hash_similars)"
   ]
  },
  {
   "cell_type": "code",
   "execution_count": null,
   "metadata": {},
   "outputs": [],
   "source": [
    "# Ищем схожие изображения с помощью дескрипторов:\n",
    "compy.similars_finder.find_features_similars(\"sift\")\n",
    "print(compy.similars_finder.features_similars)"
   ]
  },
  {
   "cell_type": "code",
   "execution_count": null,
   "metadata": {},
   "outputs": [],
   "source": [
    "# Визуализируем полученные изображения:\n",
    "for im1, im2 in compy.similars_finder.features_similars.items():\n",
    "    im1.visualize()\n",
    "    im2.visualize()"
   ]
  }
 ],
 "metadata": {
  "kernelspec": {
   "display_name": "Python 3",
   "language": "python",
   "name": "python3"
  },
  "language_info": {
   "codemirror_mode": {
    "name": "ipython",
    "version": 3
   },
   "file_extension": ".py",
   "mimetype": "text/x-python",
   "name": "python",
   "nbconvert_exporter": "python",
   "pygments_lexer": "ipython3",
   "version": "3.12.0"
  }
 },
 "nbformat": 4,
 "nbformat_minor": 2
}
