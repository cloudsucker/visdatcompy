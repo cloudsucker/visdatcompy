{
 "cells": [
  {
   "cell_type": "markdown",
   "metadata": {},
   "source": [
    "# **Пример работы с VisDatCompare:**"
   ]
  },
  {
   "cell_type": "markdown",
   "metadata": {},
   "source": [
    "### **VisDatCompare** - класс для сравнения датасетов, поиска дублей и схожестей и их удаления."
   ]
  },
  {
   "cell_type": "markdown",
   "metadata": {},
   "source": [
    "## **Инициализация объектов**"
   ]
  },
  {
   "cell_type": "markdown",
   "metadata": {},
   "source": [
    "```python\n",
    "def __init__(\n",
    "    self, \n",
    "    dataset1: Dataset, \n",
    "    dataset2: Dataset\n",
    "):\n",
    "```"
   ]
  },
  {
   "cell_type": "markdown",
   "metadata": {},
   "source": [
    "**Параметры:**\n",
    "- **Dataset1**: объект класса Dataset с первым датасетом.\n",
    "- **Dataset2**: объект класса Dataset со вторым датасетом."
   ]
  },
  {
   "cell_type": "code",
   "execution_count": 2,
   "metadata": {},
   "outputs": [],
   "source": [
    "from visdatcompy import Dataset, VisDatCompare\n",
    "\n",
    "# Создаём объекты класса Dataset\n",
    "dataset1 = Dataset(\"datasets/_metrics_analyse\")\n",
    "dataset2 = Dataset(\"datasets/_metrics_analyse\")\n",
    "\n",
    "# Создаём объект класса VisDatCompare\n",
    "compy = VisDatCompare(dataset1, dataset2)"
   ]
  },
  {
   "cell_type": "markdown",
   "metadata": {},
   "source": [
    "## **Вложенные классы:**"
   ]
  },
  {
   "cell_type": "markdown",
   "metadata": {},
   "source": [
    "### **DuplicatesFinder**\n",
    "\n",
    "Внутренний класс для поиска дубликатов изображений на основе EXIF данных и метода Pixel to Pixel."
   ]
  },
  {
   "cell_type": "markdown",
   "metadata": {},
   "source": [
    "```python\n",
    "def __init__(\n",
    "    self,\n",
    "    dataset1,\n",
    "    dataset2\n",
    "):\n",
    "```"
   ]
  },
  {
   "cell_type": "markdown",
   "metadata": {},
   "source": [
    "**Параметры:**\n",
    "- **dataset1:** Исходный набор данных.\n",
    "- **dataset2:** Набор данных для сравнения. Если пути совпадают, используется dataset1.\n",
    "\n",
    "**Атрибуты:**\n",
    "- **dataset1:** Исходный набор данных.\n",
    "- **dataset2:** Набор данных для сравнения.\n",
    "- **exif_duplicates:** Словарь дубликатов на основе EXIF данных, где ключи - изображения из первого набора,\n",
    "а значения - списки изображений из второго набора, являющиеся дубликатами.\n",
    "- **metrics_duplicates:** Словарь дубликатов на основе выбранной метрики, где ключи - оригинальные изображения,\n",
    "а значения - списки изображений, являющиеся их дубликатами."
   ]
  },
  {
   "cell_type": "markdown",
   "metadata": {},
   "source": [
    "#### **Методы**"
   ]
  },
  {
   "cell_type": "markdown",
   "metadata": {},
   "source": [
    "##### **find_exif_duplicates()** - функция для поиска дубликатов изображений по exif-данным"
   ]
  },
  {
   "cell_type": "markdown",
   "metadata": {},
   "source": [
    "```python\n",
    "def find_exif_duplicates(self) -> Dict[Image, List[Image]]:\n",
    "```"
   ]
  },
  {
   "cell_type": "markdown",
   "metadata": {},
   "source": [
    "**Возвращает:**\n",
    "- dict: Словарь, где ключи - это изображения из первого набора,\n",
    "а значения - списки изображений из второго набора, являющиеся дубликатами."
   ]
  },
  {
   "cell_type": "markdown",
   "metadata": {},
   "source": [
    "#### **Пример использования**"
   ]
  },
  {
   "cell_type": "code",
   "execution_count": null,
   "metadata": {},
   "outputs": [],
   "source": [
    "# Ищем дубликаты изображений по exif-данным:\n",
    "compy.duplicates_finder.find_exif_duplicates()"
   ]
  },
  {
   "cell_type": "markdown",
   "metadata": {},
   "source": [
    "##### **find_metrics_duplicates()** - функция для поиска дубликатов изображений по метрикам и методу Pixel to Pixel"
   ]
  },
  {
   "cell_type": "markdown",
   "metadata": {},
   "source": [
    "```python\n",
    "def find_metrics_duplicates(\n",
    "    self, metric_name: str = \"pix2pix\"\n",
    ") -> Dict[Image, List[Image]]:\n",
    "```"
   ]
  },
  {
   "cell_type": "markdown",
   "metadata": {},
   "source": [
    "**Параметры:**\n",
    "- metric_name: Название метрики для поиска дубликатов.\n",
    "\n",
    "**Возвращает:**\n",
    "- dict: Словарь, где ключи - это оригинальные изображения,\n",
    "а значения - списки изображений, являющиеся их дубликатами.\n",
    "\n",
    "**Флаги metric_names:**\n",
    "- pix2pix: Попиксельное сравнение двух изображений.\n",
    "- mse: Вычисляет среднеквадратичную ошибку между изображениями.\n",
    "- nrmse: Вычисляет нормализованную среднеквадратическую ошибку.\n",
    "- ssim: Вычисляет структурное сходство изображений.\n",
    "- psnr: Вычисляет отношение максимального значения сигнала к шуму.\n",
    "- mae: Вычисляет среднюю абсолютную ошибку между изображениями.\n",
    "- nmi: Вычисляет нормализованный показатель взаимной информации."
   ]
  },
  {
   "cell_type": "markdown",
   "metadata": {},
   "source": [
    "#### **Пример использования**"
   ]
  },
  {
   "cell_type": "code",
   "execution_count": null,
   "metadata": {},
   "outputs": [],
   "source": [
    "# Ищем дубликаты изображения по метрике MSE:\n",
    "compy.duplicates_finder.find_metrics_duplicates(\"mse\")"
   ]
  },
  {
   "cell_type": "markdown",
   "metadata": {},
   "source": [
    "#### **clear_duplicates()** - функция для удаления дубликатов из второго датасета"
   ]
  },
  {
   "cell_type": "markdown",
   "metadata": {},
   "source": [
    "```python\n",
    "def clear_duplicates(self):\n",
    "```"
   ]
  },
  {
   "cell_type": "markdown",
   "metadata": {},
   "source": [
    "### **SimilarsFinder**\n",
    "\n",
    "Внутренний класс для поиска схожих изображений в двух наборах данных."
   ]
  },
  {
   "cell_type": "markdown",
   "metadata": {},
   "source": [
    "```python\n",
    "def __init__(\n",
    "    self, \n",
    "    dataset1: Dataset, \n",
    "    dataset2: Dataset\n",
    "):\n",
    "```"
   ]
  },
  {
   "cell_type": "markdown",
   "metadata": {},
   "source": [
    "**Параметры:**\n",
    "- **dataset1:** Первый набор данных изображений.\n",
    "- **dataset2:** Второй набор данных изображений.\n",
    "\n",
    "**Атрибуты:**\n",
    "- **dataset1:** Первый набор данных изображений.\n",
    "- **dataset2:** Второй набор данных изображений.\n",
    "- **hash_similars:** Словарь схожих изображений, найденных с помощью хэширования.\n",
    "- **features_similars:** Словарь схожих изображений, найденных с использованием метода извлечения признаков.\n",
    "- **metrics_similars:** Словарь схожих изображений, найденных с использованием метрик сравнения."
   ]
  },
  {
   "cell_type": "markdown",
   "metadata": {},
   "source": [
    "#### **Методы**"
   ]
  },
  {
   "cell_type": "markdown",
   "metadata": {},
   "source": [
    "##### **find_hash_similars()** - функция для нахождения пар схожих изображений с помощью хэшей."
   ]
  },
  {
   "cell_type": "markdown",
   "metadata": {},
   "source": [
    "```python\n",
    "def find_hash_similars(self, method: str = \"average\") -> Dict[Image, Image]:\n",
    "```"
   ]
  },
  {
   "cell_type": "markdown",
   "metadata": {},
   "source": [
    "**Параметры:**\n",
    "- method: Метод сравнения хэшей.\n",
    "\n",
    "**Возвращает:**\n",
    "- dict: Словарь, где ключи - это оригинальные изображения,\n",
    "а значения - изображение, являющееся их дубликатами.\n",
    "\n",
    "**Флаги methods:**\n",
    "- \"average\": Рассчитывает хэш-значение на основе среднего значения пикселей,\n",
    "быстрый алгоритм хэширования изображений, но подходит только для простых случаев.\n",
    "- \"p\": Улучшенная версия AverageHash, которая медленнее, чем AverageHash, но может\n",
    "адаптироваться к более широкому спектру ситуаций.\n",
    "- \"marr_hildreth\": Значение хэша рассчитывается на основе оператора граней\n",
    "Марра-Хилдрета, что является самым медленным, но более дискриминативным методом.\n",
    "- \"radial_variance\": Рассчитывает хэш-значение на основе преобразования Радона.\n",
    "- \"block_mean\": Рассчитывает хэш-значение на основе среднего значения блоков,\n",
    "представленного в том же статье, что и MarrHildrethHash.\n",
    "- \"color_moment\": Рассчитывает хэш-значение на основе моментов цвета,\n",
    "представленного в той же статье, что и RadialVarianceHash."
   ]
  },
  {
   "cell_type": "markdown",
   "metadata": {},
   "source": [
    "#### **Пример использования**"
   ]
  },
  {
   "cell_type": "code",
   "execution_count": null,
   "metadata": {},
   "outputs": [],
   "source": [
    "# Ищем схожие изображения с помощью хэшей\n",
    "compy.similars_finder.find_hash_similars()"
   ]
  },
  {
   "cell_type": "markdown",
   "metadata": {},
   "source": [
    "##### **find_features_similars()** - функция для нахождения пар схожих изображений с помощью дескрипторов."
   ]
  },
  {
   "cell_type": "markdown",
   "metadata": {},
   "source": [
    "```python\n",
    "def find_features_similars(\n",
    "    self, extractor_name: str = \"sift\"\n",
    ") -> Dict[Image, List[Image]]:\n",
    "```"
   ]
  },
  {
   "cell_type": "markdown",
   "metadata": {},
   "source": [
    "**Параметры:**\n",
    "- extractor_name: Метод извлечения признаков для сравнения.\n",
    "Возможные значения: \"sift\", \"orb\", \"fast\". По умолчанию \"sift\".\n",
    "\n",
    "**Возвращает:**\n",
    "- dict: Словарь, в котором ключи - объекты изображений из первого датасета,\n",
    "а значения - списки объектов изображений из второго датасета, являющихся схожими."
   ]
  },
  {
   "cell_type": "markdown",
   "metadata": {},
   "source": [
    "#### **Пример использования**"
   ]
  },
  {
   "cell_type": "code",
   "execution_count": null,
   "metadata": {},
   "outputs": [],
   "source": [
    "# Ищем схожие изображения с помощью SIFT:\n",
    "compy.similars_finder.find_features_similars()"
   ]
  },
  {
   "cell_type": "markdown",
   "metadata": {},
   "source": [
    "##### **find_metrics_similars()** - функция для нахождения пар схожих изображений с помощью метрик."
   ]
  },
  {
   "cell_type": "markdown",
   "metadata": {},
   "source": [
    "```python\n",
    "def find_metrics_similars(\n",
    "    self, metric_name: str = \"mse\"\n",
    ") -> Dict[Image, List[Image]]:\n",
    "```"
   ]
  },
  {
   "cell_type": "markdown",
   "metadata": {},
   "source": [
    "**Параметры:**\n",
    "- metric_name: Название метрики для сравнения.\n",
    "\n",
    "**Возвращает:**\n",
    "- dict: Словарь, в котором ключи - объекты изображений из первого набора данных,\n",
    "а значения - списки объектов изображений из второго набора данных, являющихся схожими.\n",
    "\n",
    "**Флаги metric_names:**\n",
    "- pix2pix: Попиксельное сравнение двух изображений.\n",
    "- mse: Вычисляет среднеквадратичную ошибку между изображениями.\n",
    "- nrmse: Вычисляет нормализованную среднеквадратическую ошибку.\n",
    "- ssim: Вычисляет структурное сходство изображений.\n",
    "- psnr: Вычисляет отношение максимального значения сигнала к шуму.\n",
    "- mae: Вычисляет среднюю абсолютную ошибку между изображениями.\n",
    "- nmi: Вычисляет нормализованный показатель взаимной информации."
   ]
  },
  {
   "cell_type": "markdown",
   "metadata": {},
   "source": [
    "#### **Пример использования**"
   ]
  },
  {
   "cell_type": "code",
   "execution_count": null,
   "metadata": {},
   "outputs": [],
   "source": [
    "# Ищем схожие изображения с помощью MSE:\n",
    "compy.similars_finder.find_metrics_similars()"
   ]
  },
  {
   "cell_type": "markdown",
   "metadata": {},
   "source": [
    "#### **clear_duplicates()** - функция для удаления дубликатов из второго датасета"
   ]
  },
  {
   "cell_type": "markdown",
   "metadata": {},
   "source": [
    "```python\n",
    "def clear_duplicates(self):\n",
    "```"
   ]
  }
 ],
 "metadata": {
  "kernelspec": {
   "display_name": "Python 3",
   "language": "python",
   "name": "python3"
  },
  "language_info": {
   "codemirror_mode": {
    "name": "ipython",
    "version": 3
   },
   "file_extension": ".py",
   "mimetype": "text/x-python",
   "name": "python",
   "nbconvert_exporter": "python",
   "pygments_lexer": "ipython3",
   "version": "3.12.0"
  }
 },
 "nbformat": 4,
 "nbformat_minor": 2
}
