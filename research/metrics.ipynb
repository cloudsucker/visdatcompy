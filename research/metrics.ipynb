{
 "cells": [
  {
   "cell_type": "markdown",
   "metadata": {},
   "source": [
    "# **Пример работы с Metrics:**"
   ]
  },
  {
   "cell_type": "markdown",
   "metadata": {},
   "source": [
    "### **Metrics** - класс для сравнения датасетов по метрикам."
   ]
  },
  {
   "cell_type": "markdown",
   "metadata": {},
   "source": [
    "**Метрика** - расстояние, определённое для любых двух элементов (точек) некоторого множества X. То есть это функция, которая возвращает расстояние между двумя объектами. Благодаря этому свойству мы можем расположить объекты от \"идентичны\" до \"абсолютно разные\"."
   ]
  },
  {
   "cell_type": "markdown",
   "metadata": {},
   "source": [
    "#### **Диапазоны и описание:**\n",
    "\n",
    "| Метрика  | Диапазон значений | Описание                                        |\n",
    "| -------- | ----------------- | ----------------------------------------------- |\n",
    "| PixToPix | True/False        | Попиксельное сравнение двух изображений         |\n",
    "| MSE      | [0; ∞)            | Среднеквадратичная ошибка между изображениями   |\n",
    "| NRMSE    | [0, 1]            | Нормализованная среднеквадратическая ошибка     |\n",
    "| SSIM     | [-1;1]            | Структурное сходство изображений                |\n",
    "| PSNR     | (0; ∞)            | Отношение максимального значения сигнала к шуму |\n",
    "| MAE      | [0; ∞)            | Средняя абсолютная ошибка между изображениями   |\n",
    "| NMI      | [1;2]             | Нормализованный показатель взаимной информации  |\n",
    "\n",
    "_Pixel to pixel (pix2pix) не является полноправной метрикой, так как по сути своей это полное сравнение всех пикселей двух изображений между собой, однако для удобства был реализован в классе `Metrics`. Выходными данными этого метода является булево значение: `True` при полной схожести и `False` если есть различие. Его с лёгкостью заменяет **сравнение по метаданным**._"
   ]
  },
  {
   "cell_type": "markdown",
   "metadata": {},
   "source": [
    "## **Инициализация объектов**"
   ]
  },
  {
   "cell_type": "markdown",
   "metadata": {},
   "source": [
    "```python\n",
    "def __init__(self, \n",
    "    Dataset1: Dataset,\n",
    "    Dataset2: Dataset,\n",
    "    results_path: str = \"\"\n",
    "):\n",
    "```"
   ]
  },
  {
   "cell_type": "markdown",
   "metadata": {},
   "source": [
    "**Параметры:**\n",
    "- **Dataset1**: объект класса Dataset первого датасета.\n",
    "- **Dataset2**: объект класса Dataset второго датасета.\n",
    "- **results_path**: путь для сохранения файлов .csv с результатами."
   ]
  },
  {
   "cell_type": "code",
   "execution_count": 3,
   "metadata": {},
   "outputs": [],
   "source": [
    "from visdatcompy import Dataset, Metrics\n",
    "\n",
    "# Создаём два объекта с датасетами\n",
    "dataset1 = Dataset(\"../datasets/cows\")\n",
    "dataset2 = Dataset(\"../datasets/cows\")\n",
    "\n",
    "# Создаём объект класса для работы с метриками\n",
    "metrics = Metrics(dataset1, dataset2, \"../results/metrics\")"
   ]
  },
  {
   "cell_type": "markdown",
   "metadata": {},
   "source": [
    "## **Методы**"
   ]
  },
  {
   "cell_type": "markdown",
   "metadata": {},
   "source": [
    "### **1. pix2pix() - сравнение методом Pixel to Pixel (по пикселям)**"
   ]
  },
  {
   "cell_type": "markdown",
   "metadata": {},
   "source": [
    "```python\n",
    "def pix2pix(\n",
    "    self,\n",
    "    resize_images: bool = True,\n",
    "    to_csv: bool = False,\n",
    "    echo: bool = False,\n",
    ") -> list[bool]:\n",
    "```"
   ]
  },
  {
   "cell_type": "markdown",
   "metadata": {},
   "source": [
    "**Параметры:**\n",
    "- **resize_images (bool) = True** - опция изменения разрешения изображения для оптимизации.\n",
    "- **to_csv: (bool) = False** - опция для сохранения результата в .csv файле.\n",
    "- **echo: (bool) = False** - опция логирования в консоли.\n",
    "\n",
    "**Возвращает:**\n",
    "- **list[bool]** - список с bool значениями полного сходства."
   ]
  },
  {
   "cell_type": "markdown",
   "metadata": {},
   "source": [
    "#### **Пример использования**"
   ]
  },
  {
   "cell_type": "code",
   "execution_count": 4,
   "metadata": {},
   "outputs": [
    {
     "data": {
      "image/png": "[encoded data removed]",
      "text/plain": [
       "<Figure size 640x480 with 2 Axes>"
      ]
     },
     "metadata": {},
     "output_type": "display_data"
    }
   ],
   "source": [
    "pix2pix_result = metrics.pix2pix()\n",
    "metrics.show(pix2pix_result)"
   ]
  },
  {
   "cell_type": "markdown",
   "metadata": {},
   "source": [
    "### **2. mae() - сравнение по метрике cредней абсолютной ошибке между изображениями**"
   ]
  },
  {
   "cell_type": "markdown",
   "metadata": {},
   "source": [
    "```python\n",
    "def mae(\n",
    "    self,\n",
    "    resize_images: bool = True,\n",
    "    to_csv: bool = False,\n",
    "    echo: bool = False,\n",
    ") -> list[float]:\n",
    "```"
   ]
  },
  {
   "cell_type": "markdown",
   "metadata": {},
   "source": [
    "**Параметры:**\n",
    "- **resize_images (bool) = True** - опция изменения разрешения изображения для оптимизации.\n",
    "- **to_csv: (bool) = False** - опция для сохранения результата в .csv файле.\n",
    "- **echo: (bool) = False** - опция логирования в консоли.\n",
    "\n",
    "**Возвращает:**\n",
    "- **list[float]** - список с float значениями сходства."
   ]
  },
  {
   "cell_type": "markdown",
   "metadata": {},
   "source": [
    "#### **Пример использования**"
   ]
  },
  {
   "cell_type": "code",
   "execution_count": 5,
   "metadata": {},
   "outputs": [
    {
     "data": {
      "image/png": "[encoded data removed]",
      "text/plain": [
       "<Figure size 640x480 with 2 Axes>"
      ]
     },
     "metadata": {},
     "output_type": "display_data"
    }
   ],
   "source": [
    "mae_result = metrics.mae()\n",
    "metrics.show(mae_result)"
   ]
  },
  {
   "cell_type": "markdown",
   "metadata": {},
   "source": [
    "### **3. mse() - сравнение по метрике среднеквадратичной ошибки между изображениями**"
   ]
  },
  {
   "cell_type": "markdown",
   "metadata": {},
   "source": [
    "```python\n",
    "def mse(\n",
    "    self,\n",
    "    resize_images: bool = True,\n",
    "    to_csv: bool = False,\n",
    "    echo: bool = False,\n",
    ") -> list[float]:\n",
    "```"
   ]
  },
  {
   "cell_type": "markdown",
   "metadata": {},
   "source": [
    "**Параметры:**\n",
    "- **resize_images (bool) = True** - опция изменения разрешения изображения для оптимизации.\n",
    "- **to_csv: (bool) = False** - опция для сохранения результата в .csv файле.\n",
    "- **echo: (bool) = False** - опция логирования в консоли.\n",
    "\n",
    "**Возвращает:**\n",
    "- **list[float]** - список с float значениями сходства."
   ]
  },
  {
   "cell_type": "markdown",
   "metadata": {},
   "source": [
    "#### **Пример использования**"
   ]
  },
  {
   "cell_type": "code",
   "execution_count": 6,
   "metadata": {},
   "outputs": [
    {
     "data": {
      "image/png": "[encoded data removed]",
      "text/plain": [
       "<Figure size 640x480 with 2 Axes>"
      ]
     },
     "metadata": {},
     "output_type": "display_data"
    }
   ],
   "source": [
    "mse_result = metrics.mse()\n",
    "metrics.show(mse_result)"
   ]
  },
  {
   "cell_type": "markdown",
   "metadata": {},
   "source": [
    "### **4. nrmse() - сравнение по метрике нормализованной среднеквадратической ошибки**"
   ]
  },
  {
   "cell_type": "markdown",
   "metadata": {},
   "source": [
    "```python\n",
    "def nrmse(\n",
    "    self,\n",
    "    resize_images: bool = True,\n",
    "    to_csv: bool = False,\n",
    "    echo: bool = False,\n",
    ") -> list[float]:\n",
    "```"
   ]
  },
  {
   "cell_type": "markdown",
   "metadata": {},
   "source": [
    "**Параметры:**\n",
    "- **resize_images (bool) = True** - опция изменения разрешения изображения для оптимизации.\n",
    "- **to_csv: (bool) = False** - опция для сохранения результата в .csv файле.\n",
    "- **echo: (bool) = False** - опция логирования в консоли.\n",
    "\n",
    "**Возвращает:**\n",
    "- **list[float]** - список с float значениями сходства."
   ]
  },
  {
   "cell_type": "markdown",
   "metadata": {},
   "source": [
    "#### **Пример использования**"
   ]
  },
  {
   "cell_type": "code",
   "execution_count": 7,
   "metadata": {},
   "outputs": [
    {
     "data": {
      "image/png": "[encoded data removed]",
      "text/plain": [
       "<Figure size 640x480 with 2 Axes>"
      ]
     },
     "metadata": {},
     "output_type": "display_data"
    }
   ],
   "source": [
    "nrmse_result = metrics.nrmse()\n",
    "metrics.show(nrmse_result)"
   ]
  },
  {
   "cell_type": "markdown",
   "metadata": {},
   "source": [
    "### **5. ssim() - сравнение по метрике структурного сходства изображений**"
   ]
  },
  {
   "cell_type": "markdown",
   "metadata": {},
   "source": [
    "```python\n",
    "def ssim(\n",
    "    self,\n",
    "    resize_images: bool = True,\n",
    "    to_csv: bool = False,\n",
    "    echo: bool = False,\n",
    ") -> list[float]:\n",
    "```"
   ]
  },
  {
   "cell_type": "markdown",
   "metadata": {},
   "source": [
    "**Параметры:**\n",
    "- **resize_images (bool) = True** - опция изменения разрешения изображения для оптимизации.\n",
    "- **to_csv: (bool) = False** - опция для сохранения результата в .csv файле.\n",
    "- **echo: (bool) = False** - опция логирования в консоли.\n",
    "\n",
    "**Возвращает:**\n",
    "- **list[float]** - список с float значениями сходства."
   ]
  },
  {
   "cell_type": "markdown",
   "metadata": {},
   "source": [
    "#### **Пример использования**"
   ]
  },
  {
   "cell_type": "code",
   "execution_count": 8,
   "metadata": {},
   "outputs": [
    {
     "data": {
      "image/png": "[encoded data removed]",
      "text/plain": [
       "<Figure size 640x480 with 2 Axes>"
      ]
     },
     "metadata": {},
     "output_type": "display_data"
    }
   ],
   "source": [
    "ssim_result = metrics.ssim()\n",
    "metrics.show(ssim_result)"
   ]
  },
  {
   "cell_type": "markdown",
   "metadata": {},
   "source": [
    "### **6. psnr() - сравнение по метрике отношения максимального значения сигнала к шуму**"
   ]
  },
  {
   "cell_type": "markdown",
   "metadata": {},
   "source": [
    "```python\n",
    "def psnr(\n",
    "    self,\n",
    "    resize_images: bool = True,\n",
    "    to_csv: bool = False,\n",
    "    echo: bool = False,\n",
    ") -> list[float]:\n",
    "```"
   ]
  },
  {
   "cell_type": "markdown",
   "metadata": {},
   "source": [
    "**Параметры:**\n",
    "- **resize_images (bool) = True** - опция изменения разрешения изображения для оптимизации.\n",
    "- **to_csv: (bool) = False** - опция для сохранения результата в .csv файле.\n",
    "- **echo: (bool) = False** - опция логирования в консоли.\n",
    "\n",
    "**Возвращает:**\n",
    "- **list[float]** - список с float значениями сходства."
   ]
  },
  {
   "cell_type": "markdown",
   "metadata": {},
   "source": [
    "**Параметры:**\n",
    "- **resize_images (bool) = True** - опция изменения разрешения изображения для оптимизации.\n",
    "- **to_csv: (bool) = False** - опция для сохранения результата в .csv файле.\n",
    "- **echo: (bool) = False** - опция логирования в консоли.\n",
    "\n",
    "**Возвращает:**\n",
    "- **list[float]** - список с float значениями сходства."
   ]
  },
  {
   "cell_type": "markdown",
   "metadata": {},
   "source": [
    "#### **Пример использования**"
   ]
  },
  {
   "cell_type": "code",
   "execution_count": 9,
   "metadata": {},
   "outputs": [
    {
     "name": "stderr",
     "output_type": "stream",
     "text": [
      "c:\\Users\\sharj\\AppData\\Local\\Programs\\Python\\Python312\\Lib\\site-packages\\skimage\\metrics\\simple_metrics.py:163: RuntimeWarning: divide by zero encountered in scalar divide\n",
      "  return 10 * np.log10((data_range ** 2) / err)\n"
     ]
    },
    {
     "data": {
      "image/png": "[encoded data removed]",
      "text/plain": [
       "<Figure size 640x480 with 2 Axes>"
      ]
     },
     "metadata": {},
     "output_type": "display_data"
    }
   ],
   "source": [
    "psnr_result = metrics.psnr()\n",
    "metrics.show(psnr_result)"
   ]
  },
  {
   "cell_type": "markdown",
   "metadata": {},
   "source": [
    "### **7. nmi() - сравнение по метрике нормализованного показателя взаимной информации**"
   ]
  },
  {
   "cell_type": "markdown",
   "metadata": {},
   "source": [
    "**Параметры:**\n",
    "- **resize_images (bool) = True** - опция изменения разрешения изображения для оптимизации.\n",
    "- **to_csv: (bool) = False** - опция для сохранения результата в .csv файле.\n",
    "- **echo: (bool) = False** - опция логирования в консоли.\n",
    "\n",
    "**Возвращает:**\n",
    "- **list[float]** - список с float значениями сходства."
   ]
  },
  {
   "cell_type": "markdown",
   "metadata": {},
   "source": [
    "#### **Пример использования**"
   ]
  },
  {
   "cell_type": "code",
   "execution_count": 10,
   "metadata": {},
   "outputs": [
    {
     "data": {
      "image/png": "[encoded data removed]",
      "text/plain": [
       "<Figure size 640x480 with 2 Axes>"
      ]
     },
     "metadata": {},
     "output_type": "display_data"
    }
   ],
   "source": [
    "nmi_result = metrics.nmi()\n",
    "metrics.show(nmi_result)"
   ]
  },
  {
   "cell_type": "markdown",
   "metadata": {},
   "source": [
    "### **show() - функция для отображения результата сравнения по метрике в виде тепловой матрицы.**"
   ]
  },
  {
   "cell_type": "markdown",
   "metadata": {},
   "source": [
    "```python\n",
    "def show(\n",
    "    self,\n",
    "    metric_values: list[list]\n",
    ") -> None:\n",
    "```"
   ]
  },
  {
   "cell_type": "markdown",
   "metadata": {},
   "source": [
    "**Параметры:**:\n",
    "- **metric_values**: матрица сравнения по выбранной метрике.\n",
    "- **filename**: название файла для сохранения."
   ]
  },
  {
   "cell_type": "markdown",
   "metadata": {},
   "source": [
    "#### **Пример использования**"
   ]
  },
  {
   "cell_type": "code",
   "execution_count": 12,
   "metadata": {},
   "outputs": [
    {
     "data": {
      "image/png": "[encoded data removed]",
      "text/plain": [
       "<Figure size 640x480 with 2 Axes>"
      ]
     },
     "metadata": {},
     "output_type": "display_data"
    }
   ],
   "source": [
    "nmi_result = metrics.nmi()\n",
    "metrics.show(nmi_result)"
   ]
  },
  {
   "cell_type": "markdown",
   "metadata": {},
   "source": [
    "### **save() - функция для сохранения результата сравнения по метрике в csv файл.**"
   ]
  },
  {
   "cell_type": "markdown",
   "metadata": {},
   "source": [
    "```python\n",
    "def save(\n",
    "    self, \n",
    "    filename: str, \n",
    "    metric_values: list[list]\n",
    ") -> None:\n",
    "```"
   ]
  },
  {
   "cell_type": "markdown",
   "metadata": {},
   "source": [
    "**Параметры:**\n",
    "- **filename**: название файла .csv без расширения.\n",
    "- **metric_values**: матрица сравнения по выбранной метрике."
   ]
  },
  {
   "cell_type": "markdown",
   "metadata": {},
   "source": [
    "#### **Пример использования**"
   ]
  },
  {
   "cell_type": "markdown",
   "metadata": {},
   "source": [
    "*Путь к сохраняемому файлу начинается от: `/results/metrics`, таким образом указав лишь название файла без его расширения новый файл создаётся со следующим путём: `/results/metrics/test.csv`*"
   ]
  },
  {
   "cell_type": "code",
   "execution_count": 14,
   "metadata": {},
   "outputs": [],
   "source": [
    "nmi_result = metrics.nmi()\n",
    "metrics.save('test', nmi_result)"
   ]
  }
 ],
 "metadata": {
  "kernelspec": {
   "display_name": "Python 3",
   "language": "python",
   "name": "python3"
  },
  "language_info": {
   "codemirror_mode": {
    "name": "ipython",
    "version": 3
   },
   "file_extension": ".py",
   "mimetype": "text/x-python",
   "name": "python",
   "nbconvert_exporter": "python",
   "pygments_lexer": "ipython3",
   "version": "3.12.0"
  }
 },
 "nbformat": 4,
 "nbformat_minor": 2
}
