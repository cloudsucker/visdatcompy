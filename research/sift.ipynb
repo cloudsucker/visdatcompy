{
 "cells": [
  {
   "cell_type": "code",
   "execution_count": 13,
   "metadata": {},
   "outputs": [],
   "source": [
    "from visdatcompy import Dataset, SIFT\n",
    "\n",
    "# Создаём два объекта с датасетами\n",
    "dataset1 = Dataset(r\"../visdataset\")\n",
    "dataset2 = Dataset(r\"../visdataset\")\n",
    "\n",
    "# Создаём объект класса SIFT для работы с двумя датасетами:\n",
    "sift = SIFT(dataset1, dataset2)"
   ]
  },
  {
   "cell_type": "code",
   "execution_count": 14,
   "metadata": {},
   "outputs": [
    {
     "ename": "TypeError",
     "evalue": "SIFT.extract_features() got an unexpected keyword argument 'echo'",
     "output_type": "error",
     "traceback": [
      "\u001b[1;31m---------------------------------------------------------------------------\u001b[0m",
      "\u001b[1;31mTypeError\u001b[0m                                 Traceback (most recent call last)",
      "Cell \u001b[1;32mIn[14], line 2\u001b[0m\n\u001b[0;32m      1\u001b[0m \u001b[38;5;66;03m# Извлекаем дескрипторы и метки для каждого датасета (они записываются в объекты Dataset)\u001b[39;00m\n\u001b[1;32m----> 2\u001b[0m \u001b[43msift\u001b[49m\u001b[38;5;241;43m.\u001b[39;49m\u001b[43mextract_features\u001b[49m\u001b[43m(\u001b[49m\u001b[43mdataset1\u001b[49m\u001b[43m,\u001b[49m\u001b[43m \u001b[49m\u001b[43mecho\u001b[49m\u001b[38;5;241;43m=\u001b[39;49m\u001b[38;5;28;43;01mFalse\u001b[39;49;00m\u001b[43m)\u001b[49m\n\u001b[0;32m      3\u001b[0m sift\u001b[38;5;241m.\u001b[39mextract_features(dataset2, echo\u001b[38;5;241m=\u001b[39m\u001b[38;5;28;01mFalse\u001b[39;00m)\n",
      "\u001b[1;31mTypeError\u001b[0m: SIFT.extract_features() got an unexpected keyword argument 'echo'"
     ]
    }
   ],
   "source": [
    "# Извлекаем дескрипторы и метки для каждого датасета (они записываются в объекты Dataset)\n",
    "sift.extract_features(dataset1, echo=False)\n",
    "sift.extract_features(dataset2, echo=False)"
   ]
  },
  {
   "cell_type": "code",
   "execution_count": 7,
   "metadata": {},
   "outputs": [
    {
     "ename": "ValueError",
     "evalue": "'2_2.jpg' is not in list",
     "output_type": "error",
     "traceback": [
      "\u001b[1;31m---------------------------------------------------------------------------\u001b[0m",
      "\u001b[1;31mValueError\u001b[0m                                Traceback (most recent call last)",
      "Cell \u001b[1;32mIn[7], line 2\u001b[0m\n\u001b[0;32m      1\u001b[0m \u001b[38;5;66;03m# Получаем объект изображения по названию\u001b[39;00m\n\u001b[1;32m----> 2\u001b[0m my_image \u001b[38;5;241m=\u001b[39m \u001b[43mdataset1\u001b[49m\u001b[38;5;241;43m.\u001b[39;49m\u001b[43mget_image\u001b[49m\u001b[43m(\u001b[49m\u001b[38;5;124;43m\"\u001b[39;49m\u001b[38;5;124;43m2_2.jpg\u001b[39;49m\u001b[38;5;124;43m\"\u001b[39;49m\u001b[43m)\u001b[49m\n\u001b[0;32m      3\u001b[0m \u001b[38;5;66;03m# Получаем изображение схожее с нашим из указанного датасета\u001b[39;00m\n\u001b[0;32m      4\u001b[0m new_image\u001b[38;5;241m=\u001b[39m sift\u001b[38;5;241m.\u001b[39mfind_similar_image(my_image, dataset2)\n",
      "File \u001b[1;32m~\\Desktop\\STUDY\\visdatcompy\\visdatcompy\\image_handler.py:178\u001b[0m, in \u001b[0;36mDataset.get_image\u001b[1;34m(self, filename)\u001b[0m\n\u001b[0;32m    167\u001b[0m \u001b[38;5;28;01mdef\u001b[39;00m \u001b[38;5;21mget_image\u001b[39m(\u001b[38;5;28mself\u001b[39m, filename: \u001b[38;5;28mstr\u001b[39m) \u001b[38;5;241m-\u001b[39m\u001b[38;5;241m>\u001b[39m Image:\n\u001b[0;32m    168\u001b[0m \u001b[38;5;250m    \u001b[39m\u001b[38;5;124;03m\"\"\"\u001b[39;00m\n\u001b[0;32m    169\u001b[0m \u001b[38;5;124;03m    Возвращает объект изображения по названию файла.\u001b[39;00m\n\u001b[0;32m    170\u001b[0m \n\u001b[1;32m   (...)\u001b[0m\n\u001b[0;32m    175\u001b[0m \u001b[38;5;124;03m        - Image: объект изображения с указаным именем файла.\u001b[39;00m\n\u001b[0;32m    176\u001b[0m \u001b[38;5;124;03m    \"\"\"\u001b[39;00m\n\u001b[1;32m--> 178\u001b[0m     image_index \u001b[38;5;241m=\u001b[39m \u001b[38;5;28;43mself\u001b[39;49m\u001b[38;5;241;43m.\u001b[39;49m\u001b[43mfilenames\u001b[49m\u001b[38;5;241;43m.\u001b[39;49m\u001b[43mindex\u001b[49m\u001b[43m(\u001b[49m\u001b[43mfilename\u001b[49m\u001b[43m)\u001b[49m\n\u001b[0;32m    179\u001b[0m     \u001b[38;5;28;01mreturn\u001b[39;00m \u001b[38;5;28mself\u001b[39m\u001b[38;5;241m.\u001b[39mimages[image_index]\n",
      "\u001b[1;31mValueError\u001b[0m: '2_2.jpg' is not in list"
     ]
    }
   ],
   "source": [
    "# Получаем объект изображения по названию\n",
    "my_image = dataset1.get_image(\"2_2.jpg\")\n",
    "# Получаем изображение схожее с нашим из указанного датасета\n",
    "new_image = sift.find_similar_image(my_image, dataset2)\n",
    "\n",
    "# Визуализируем оба изображения для визуальной оценки\n",
    "my_image.visualize()\n",
    "new_image.visualize()\n",
    "\n",
    "# Либо выполняем более простую функцию для поиска и отображения\n",
    "sift.visualize_similar_images(my_image, dataset2)"
   ]
  },
  {
   "cell_type": "code",
   "execution_count": 3,
   "metadata": {},
   "outputs": [
    {
     "ename": "NameError",
     "evalue": "name 'visualize_similar_images' is not defined",
     "output_type": "error",
     "traceback": [
      "\u001b[1;31m---------------------------------------------------------------------------\u001b[0m",
      "\u001b[1;31mNameError\u001b[0m                                 Traceback (most recent call last)",
      "Cell \u001b[1;32mIn[3], line 4\u001b[0m\n\u001b[0;32m      1\u001b[0m \u001b[38;5;28;01mfrom\u001b[39;00m \u001b[38;5;21;01mipywidgets\u001b[39;00m \u001b[38;5;28;01mimport\u001b[39;00m interact\n\u001b[0;32m      3\u001b[0m \u001b[38;5;66;03m# Пример использования с ipywidgets interact\u001b[39;00m\n\u001b[1;32m----> 4\u001b[0m interact(\u001b[43mvisualize_similar_images\u001b[49m, itest\u001b[38;5;241m=\u001b[39m(\u001b[38;5;241m0\u001b[39m, \u001b[38;5;241m38\u001b[39m))\n",
      "\u001b[1;31mNameError\u001b[0m: name 'visualize_similar_images' is not defined"
     ]
    }
   ],
   "source": [
    "from ipywidgets import interact\n",
    "\n",
    "# Пример использования с ipywidgets interact\n",
    "interact(visualize_similar_images, itest=(0, 38))\n"
   ]
  }
 ],
 "metadata": {
  "kernelspec": {
   "display_name": "Python 3",
   "language": "python",
   "name": "python3"
  },
  "language_info": {
   "codemirror_mode": {
    "name": "ipython",
    "version": 3
   },
   "file_extension": ".py",
   "mimetype": "text/x-python",
   "name": "python",
   "nbconvert_exporter": "python",
   "pygments_lexer": "ipython3",
   "version": "3.12.0"
  }
 },
 "nbformat": 4,
 "nbformat_minor": 2
}
