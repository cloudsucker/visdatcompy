{
 "cells": [
  {
   "cell_type": "markdown",
   "metadata": {},
   "source": [
    "# **Пример работы с FeatureExtractor:**"
   ]
  },
  {
   "cell_type": "markdown",
   "metadata": {},
   "source": [
    "### **FeatureExtractor** - класс для сравнения датасетов с помощью дескрипторов."
   ]
  },
  {
   "cell_type": "markdown",
   "metadata": {},
   "source": [
    "## **Инициализация объектов**"
   ]
  },
  {
   "cell_type": "markdown",
   "metadata": {},
   "source": [
    "```python\n",
    "def __init__(\n",
    "    self, \n",
    "    dataset1: Dataset, \n",
    "    dataset2: Dataset, \n",
    "    extractor: str = \"sift\"\n",
    "):\n",
    "```"
   ]
  },
  {
   "cell_type": "markdown",
   "metadata": {},
   "source": [
    "**Параметры:**\n",
    "- **dataset1**: Объект класса Dataset.\n",
    "- **dataset2**: Объект класса Dataset.\n",
    "- **extractor**: метод сравнения (sift, orb или fast)."
   ]
  },
  {
   "cell_type": "code",
   "execution_count": 5,
   "metadata": {},
   "outputs": [
    {
     "name": "stdout",
     "output_type": "stream",
     "text": [
      "\n",
      "[V] Извлечение дескрипторов\n",
      "[%] Датасет 1: cows\n",
      "[+] Чтение изображения: V00001.png\n",
      "[+] Чтение изображения: V00002.png\n",
      "[+] Чтение изображения: V00003.png\n",
      "[+] Чтение изображения: V00004.png\n",
      "[+] Чтение изображения: V00005.png\n",
      "[+] Чтение изображения: V00006.png\n",
      "[+] Чтение изображения: V00007.png\n",
      "[+] Чтение изображения: V00008.png\n",
      "[+] Чтение изображения: V00009.png\n",
      "[+] Чтение изображения: V00010.png\n",
      "[V] Количество дескрипторов в 10 изображениях: 3841\n",
      "\n",
      "\n",
      "[%] Датасет 2: cows_duplicates"
     ]
    },
    {
     "ename": "MemoryError",
     "evalue": "Unable to allocate 9.54 GiB for an array with shape (10000000, 128) and data type float64",
     "output_type": "error",
     "traceback": [
      "\u001b[1;31m---------------------------------------------------------------------------\u001b[0m",
      "\u001b[1;31mMemoryError\u001b[0m                               Traceback (most recent call last)",
      "Cell \u001b[1;32mIn[5], line 8\u001b[0m\n\u001b[0;32m      5\u001b[0m dataset2 \u001b[38;5;241m=\u001b[39m Dataset(\u001b[38;5;124m\"\u001b[39m\u001b[38;5;124m../datasets/cows_duplicates\u001b[39m\u001b[38;5;124m\"\u001b[39m)\n\u001b[0;32m      7\u001b[0m \u001b[38;5;66;03m# Создаём объект класса FeatureExtractor для работы с методом SIFT:\u001b[39;00m\n\u001b[1;32m----> 8\u001b[0m fext \u001b[38;5;241m=\u001b[39m \u001b[43mFeatureExtractor\u001b[49m\u001b[43m(\u001b[49m\u001b[43mdataset1\u001b[49m\u001b[43m,\u001b[49m\u001b[43m \u001b[49m\u001b[43mdataset2\u001b[49m\u001b[43m,\u001b[49m\u001b[43m \u001b[49m\u001b[38;5;124;43m\"\u001b[39;49m\u001b[38;5;124;43msift\u001b[39;49m\u001b[38;5;124;43m\"\u001b[39;49m\u001b[43m)\u001b[49m\n",
      "File \u001b[1;32m~\\Desktop\\STUDY\\visdatcompy\\visdatcompy\\feature_extractor.py:75\u001b[0m, in \u001b[0;36mFeatureExtractor.__init__\u001b[1;34m(self, dataset1, dataset2, extractor)\u001b[0m\n\u001b[0;32m     73\u001b[0m     \u001b[38;5;28mprint\u001b[39m(\u001b[38;5;124m\"\u001b[39m\u001b[38;5;130;01m\\n\u001b[39;00m\u001b[38;5;124m\"\u001b[39m)\n\u001b[0;32m     74\u001b[0m     color_print(\u001b[38;5;124m\"\u001b[39m\u001b[38;5;124mstatus\u001b[39m\u001b[38;5;124m\"\u001b[39m, \u001b[38;5;124m\"\u001b[39m\u001b[38;5;124mstatus\u001b[39m\u001b[38;5;124m\"\u001b[39m, \u001b[38;5;124mf\u001b[39m\u001b[38;5;124m\"\u001b[39m\u001b[38;5;124mДатасет 2: \u001b[39m\u001b[38;5;132;01m{\u001b[39;00mdataset2\u001b[38;5;241m.\u001b[39mname\u001b[38;5;132;01m}\u001b[39;00m\u001b[38;5;124m\"\u001b[39m)\n\u001b[1;32m---> 75\u001b[0m     \u001b[38;5;28;43mself\u001b[39;49m\u001b[38;5;241;43m.\u001b[39;49m\u001b[43m_extract_features_from_dataset\u001b[49m\u001b[43m(\u001b[49m\u001b[43mdataset2\u001b[49m\u001b[43m)\u001b[49m\n\u001b[0;32m     77\u001b[0m \u001b[38;5;28;01melse\u001b[39;00m:\n\u001b[0;32m     78\u001b[0m     \u001b[38;5;28mself\u001b[39m\u001b[38;5;241m.\u001b[39mdataset2 \u001b[38;5;241m=\u001b[39m dataset1\n",
      "File \u001b[1;32m~\\Desktop\\STUDY\\visdatcompy\\visdatcompy\\feature_extractor.py:133\u001b[0m, in \u001b[0;36mFeatureExtractor._extract_features_from_dataset\u001b[1;34m(self, dataset, echo)\u001b[0m\n\u001b[0;32m    128\u001b[0m \u001b[38;5;28;01mdef\u001b[39;00m \u001b[38;5;21m_extract_features_from_dataset\u001b[39m(\n\u001b[0;32m    129\u001b[0m     \u001b[38;5;28mself\u001b[39m, dataset: Dataset, echo: \u001b[38;5;28mbool\u001b[39m \u001b[38;5;241m=\u001b[39m \u001b[38;5;28;01mTrue\u001b[39;00m\n\u001b[0;32m    130\u001b[0m ) \u001b[38;5;241m-\u001b[39m\u001b[38;5;241m>\u001b[39m \u001b[38;5;28mtuple\u001b[39m:\n\u001b[0;32m    131\u001b[0m     \u001b[38;5;66;03m# Инициализация переменных для хранения дескрипторов и меток\u001b[39;00m\n\u001b[0;32m    132\u001b[0m     descriptor_count \u001b[38;5;241m=\u001b[39m \u001b[38;5;241m0\u001b[39m\n\u001b[1;32m--> 133\u001b[0m     descriptors_array \u001b[38;5;241m=\u001b[39m \u001b[43mnp\u001b[49m\u001b[38;5;241;43m.\u001b[39;49m\u001b[43mzeros\u001b[49m\u001b[43m(\u001b[49m\u001b[38;5;28;43mself\u001b[39;49m\u001b[38;5;241;43m.\u001b[39;49m\u001b[43mdesc_arr_shape\u001b[49m\u001b[43m)\u001b[49m\n\u001b[0;32m    134\u001b[0m     labels_array \u001b[38;5;241m=\u001b[39m np\u001b[38;5;241m.\u001b[39mzeros((\u001b[38;5;241m10000000\u001b[39m,))\n\u001b[0;32m    136\u001b[0m     \u001b[38;5;28;01mfor\u001b[39;00m i, image \u001b[38;5;129;01min\u001b[39;00m \u001b[38;5;28menumerate\u001b[39m(dataset\u001b[38;5;241m.\u001b[39mimages):\n",
      "\u001b[1;31mMemoryError\u001b[0m: Unable to allocate 9.54 GiB for an array with shape (10000000, 128) and data type float64"
     ]
    }
   ],
   "source": [
    "from visdatcompy import Dataset, FeatureExtractor\n",
    "\n",
    "# Создаём два объекта с датасетами\n",
    "dataset1 = Dataset(\"../datasets/cows\")\n",
    "dataset2 = Dataset(\"../datasets/cows_duplicates\")\n",
    "\n",
    "# Создаём объект класса FeatureExtractor для работы с методом SIFT:\n",
    "fext = FeatureExtractor(dataset1, dataset2, \"sift\")"
   ]
  },
  {
   "cell_type": "markdown",
   "metadata": {},
   "source": [
    "### **SIFT**\n",
    "\n",
    "**Метод SIFT** _(Scale-Invariant feature transform — масштабно-инвариантная трансформация признаков)_ содержит детекторы для определения интересующих нас характерных точек на изображении и отбрасывании низкоконтрастных ключевых точек. Выходной величиной является представление соседней с характерной точкой области в виде вектора дескрипторов."
   ]
  },
  {
   "cell_type": "markdown",
   "metadata": {},
   "source": [
    "### **ORB**\n",
    "\n",
    "**ORB** _(Oriented FAST and Rotated BRIEF)_ - Ориентированный алгоритм быстрого обнаружения особенностей и вращенных бинарных инвариантных характеристик.\n"
   ]
  },
  {
   "cell_type": "markdown",
   "metadata": {},
   "source": [
    "### **FAST**\n",
    "\n",
    "**FAST** _(Features from Accelerated Segment Test)_ - Быстрый алгоритм обнаружения особенностей."
   ]
  },
  {
   "cell_type": "markdown",
   "metadata": {},
   "source": [
    "## **Методы**"
   ]
  },
  {
   "cell_type": "markdown",
   "metadata": {},
   "source": [
    "### **find_similars()** - поиск схожих изображений для каждого изображений из первого датасета во втором."
   ]
  },
  {
   "cell_type": "markdown",
   "metadata": {},
   "source": [
    "```python\n",
    "def find_similars(self) -> Dict[Image, Image]:\n",
    "```"
   ]
  },
  {
   "cell_type": "markdown",
   "metadata": {},
   "source": [
    "**Возвращает:**\n",
    "- **dict**: Словарь, где ключи - объекты изображений из первого датасета,\n",
    "а значения - объекты изображений из второго датасета, являющиеся схожими."
   ]
  },
  {
   "cell_type": "markdown",
   "metadata": {},
   "source": [
    "#### **Пример использования**"
   ]
  },
  {
   "cell_type": "code",
   "execution_count": 1,
   "metadata": {},
   "outputs": [
    {
     "ename": "NameError",
     "evalue": "name 'fext' is not defined",
     "output_type": "error",
     "traceback": [
      "\u001b[1;31m---------------------------------------------------------------------------\u001b[0m",
      "\u001b[1;31mNameError\u001b[0m                                 Traceback (most recent call last)",
      "Cell \u001b[1;32mIn[1], line 1\u001b[0m\n\u001b[1;32m----> 1\u001b[0m \u001b[43mfext\u001b[49m\u001b[38;5;241m.\u001b[39mfind_similars()\n\u001b[0;32m      2\u001b[0m \u001b[38;5;28mprint\u001b[39m(fext\u001b[38;5;241m.\u001b[39msift_similars)\n",
      "\u001b[1;31mNameError\u001b[0m: name 'fext' is not defined"
     ]
    }
   ],
   "source": [
    "fext.find_similars()\n",
    "print(fext.sift_similars)"
   ]
  },
  {
   "cell_type": "code",
   "execution_count": 7,
   "metadata": {},
   "outputs": [
    {
     "ename": "ValueError",
     "evalue": "'2_2.jpg' is not in list",
     "output_type": "error",
     "traceback": [
      "\u001b[1;31m---------------------------------------------------------------------------\u001b[0m",
      "\u001b[1;31mValueError\u001b[0m                                Traceback (most recent call last)",
      "Cell \u001b[1;32mIn[7], line 2\u001b[0m\n\u001b[0;32m      1\u001b[0m \u001b[38;5;66;03m# Получаем объект изображения по названию\u001b[39;00m\n\u001b[1;32m----> 2\u001b[0m my_image \u001b[38;5;241m=\u001b[39m \u001b[43mdataset1\u001b[49m\u001b[38;5;241;43m.\u001b[39;49m\u001b[43mget_image\u001b[49m\u001b[43m(\u001b[49m\u001b[38;5;124;43m\"\u001b[39;49m\u001b[38;5;124;43m2_2.jpg\u001b[39;49m\u001b[38;5;124;43m\"\u001b[39;49m\u001b[43m)\u001b[49m\n\u001b[0;32m      3\u001b[0m \u001b[38;5;66;03m# Получаем изображение схожее с нашим из указанного датасета\u001b[39;00m\n\u001b[0;32m      4\u001b[0m new_image\u001b[38;5;241m=\u001b[39m sift\u001b[38;5;241m.\u001b[39mfind_similar_image(my_image, dataset2)\n",
      "File \u001b[1;32m~\\Desktop\\STUDY\\visdatcompy\\visdatcompy\\image_handler.py:178\u001b[0m, in \u001b[0;36mDataset.get_image\u001b[1;34m(self, filename)\u001b[0m\n\u001b[0;32m    167\u001b[0m \u001b[38;5;28;01mdef\u001b[39;00m \u001b[38;5;21mget_image\u001b[39m(\u001b[38;5;28mself\u001b[39m, filename: \u001b[38;5;28mstr\u001b[39m) \u001b[38;5;241m-\u001b[39m\u001b[38;5;241m>\u001b[39m Image:\n\u001b[0;32m    168\u001b[0m \u001b[38;5;250m    \u001b[39m\u001b[38;5;124;03m\"\"\"\u001b[39;00m\n\u001b[0;32m    169\u001b[0m \u001b[38;5;124;03m    Возвращает объект изображения по названию файла.\u001b[39;00m\n\u001b[0;32m    170\u001b[0m \n\u001b[1;32m   (...)\u001b[0m\n\u001b[0;32m    175\u001b[0m \u001b[38;5;124;03m        - Image: объект изображения с указаным именем файла.\u001b[39;00m\n\u001b[0;32m    176\u001b[0m \u001b[38;5;124;03m    \"\"\"\u001b[39;00m\n\u001b[1;32m--> 178\u001b[0m     image_index \u001b[38;5;241m=\u001b[39m \u001b[38;5;28;43mself\u001b[39;49m\u001b[38;5;241;43m.\u001b[39;49m\u001b[43mfilenames\u001b[49m\u001b[38;5;241;43m.\u001b[39;49m\u001b[43mindex\u001b[49m\u001b[43m(\u001b[49m\u001b[43mfilename\u001b[49m\u001b[43m)\u001b[49m\n\u001b[0;32m    179\u001b[0m     \u001b[38;5;28;01mreturn\u001b[39;00m \u001b[38;5;28mself\u001b[39m\u001b[38;5;241m.\u001b[39mimages[image_index]\n",
      "\u001b[1;31mValueError\u001b[0m: '2_2.jpg' is not in list"
     ]
    }
   ],
   "source": [
    "# Получаем объект изображения по названию\n",
    "my_image = dataset1.get_image(\"2_2.jpg\")\n",
    "# Получаем изображение схожее с нашим из указанного датасета\n",
    "new_image = sift.find_similar_image(my_image, dataset2)\n",
    "\n",
    "# Визуализируем оба изображения для визуальной оценки\n",
    "my_image.visualize()\n",
    "new_image.visualize()\n",
    "\n",
    "# Либо выполняем более простую функцию для поиска и отображения\n",
    "sift.visualize_similar_images(my_image, dataset2)"
   ]
  },
  {
   "cell_type": "code",
   "execution_count": 3,
   "metadata": {},
   "outputs": [
    {
     "ename": "NameError",
     "evalue": "name 'visualize_similar_images' is not defined",
     "output_type": "error",
     "traceback": [
      "\u001b[1;31m---------------------------------------------------------------------------\u001b[0m",
      "\u001b[1;31mNameError\u001b[0m                                 Traceback (most recent call last)",
      "Cell \u001b[1;32mIn[3], line 4\u001b[0m\n\u001b[0;32m      1\u001b[0m \u001b[38;5;28;01mfrom\u001b[39;00m \u001b[38;5;21;01mipywidgets\u001b[39;00m \u001b[38;5;28;01mimport\u001b[39;00m interact\n\u001b[0;32m      3\u001b[0m \u001b[38;5;66;03m# Пример использования с ipywidgets interact\u001b[39;00m\n\u001b[1;32m----> 4\u001b[0m interact(\u001b[43mvisualize_similar_images\u001b[49m, itest\u001b[38;5;241m=\u001b[39m(\u001b[38;5;241m0\u001b[39m, \u001b[38;5;241m38\u001b[39m))\n",
      "\u001b[1;31mNameError\u001b[0m: name 'visualize_similar_images' is not defined"
     ]
    }
   ],
   "source": [
    "from ipywidgets import interact\n",
    "\n",
    "# Пример использования с ipywidgets interact\n",
    "interact(visualize_similar_images, itest=(0, 38))\n"
   ]
  }
 ],
 "metadata": {
  "kernelspec": {
   "display_name": "Python 3",
   "language": "python",
   "name": "python3"
  },
  "language_info": {
   "codemirror_mode": {
    "name": "ipython",
    "version": 3
   },
   "file_extension": ".py",
   "mimetype": "text/x-python",
   "name": "python",
   "nbconvert_exporter": "python",
   "pygments_lexer": "ipython3",
   "version": "3.12.0"
  }
 },
 "nbformat": 4,
 "nbformat_minor": 2
}
