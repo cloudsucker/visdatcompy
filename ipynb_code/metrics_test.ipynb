{
 "cells": [
  {
   "cell_type": "code",
   "execution_count": 3,
   "id": "1df77656-39ef-40b6-9a27-642288e3a596",
   "metadata": {},
   "outputs": [],
   "source": [
    "from PIL import Image\n",
    "import numpy as np\n",
    "import os.path\n",
    "import time\n",
    "from skimage import img_as_float\n",
    "from sklearn.metrics import mean_squared_error as mse\n",
    "from skimage.metrics import normalized_root_mse as nrmse\n",
    "from skimage.metrics import structural_similarity as ssim\n",
    "from skimage.metrics import peak_signal_noise_ratio as psnr\n",
    "from sklearn.metrics import mean_absolute_error as mae\n",
    "from skimage.metrics import normalized_mutual_information as nmi\n",
    "from image_similarity_measures.evaluate import evaluation"
   ]
  },
  {
   "cell_type": "code",
   "execution_count": 4,
   "id": "150a4381-c8a4-47fb-bfa2-d7294b816288",
   "metadata": {},
   "outputs": [
    {
     "name": "stdout",
     "output_type": "stream",
     "text": [
      "['5f\\\\047.jpg', '5f\\\\055.jpg', '5f\\\\121.jpg', '5f\\\\160.jpg', '5f\\\\163.jpg']\n"
     ]
    }
   ],
   "source": [
    "photos = []\n",
    "for address, dirs, files in os.walk('5f'):\n",
    "    for name in files:\n",
    "        photos.append(os.path.join(address, name))\n",
    "print(photos)"
   ]
  },
  {
   "cell_type": "code",
   "execution_count": 20,
   "id": "1abb47ae-e998-43ae-8b24-5ff5d20a2ff0",
   "metadata": {},
   "outputs": [
    {
     "name": "stdout",
     "output_type": "stream",
     "text": [
      "Изображения идентичны.\n",
      "0.0\n",
      "Изображения различны.\n",
      "0.0\n",
      "Изображения различны.\n",
      "0.0\n",
      "Изображения различны.\n",
      "0.0\n",
      "Изображения различны.\n",
      "0.0\n"
     ]
    }
   ],
   "source": [
    "firstImage = photos [0]\n",
    "image1 = Image.open(firstImage)\n",
    "resized_image1 = image1.resize((512, 512))\n",
    "for i in range(0,5):\n",
    "    secondImage = photos [i]\n",
    "    image2 = Image.open(secondImage)\n",
    "    resized_image2 = image2.resize((512, 512))\n",
    "    start = time.time()\n",
    "    are_equal = np.array_equal(np.array(resized_image1), np.array(resized_image2))\n",
    "    end = time.time() - start\n",
    "    if are_equal:\n",
    "        print(\"Изображения идентичны.\")\n",
    "    else:\n",
    "        print(\"Изображения различны.\")\n",
    "    print(end)"
   ]
  },
  {
   "cell_type": "code",
   "execution_count": 21,
   "id": "5fdd4e67-efc1-467b-b22c-f85649d243d0",
   "metadata": {},
   "outputs": [
    {
     "name": "stdout",
     "output_type": "stream",
     "text": [
      "MSE:\t 0.0 \t Время работы: 0.012174844741821289\n",
      "MSE:\t 100.60792795817058 \t Время работы: 0.008606195449829102\n",
      "MSE:\t 103.87657292683919 \t Время работы: 0.008124828338623047\n",
      "MSE:\t 105.65984217325847 \t Время работы: 0.0\n",
      "MSE:\t 103.67320887247722 \t Время работы: 0.0\n"
     ]
    }
   ],
   "source": [
    "firstImage = photos [0]\n",
    "image1 = Image.open(firstImage)\n",
    "resized_image1 = image1.resize((512, 512))\n",
    "for i in photos:\n",
    "    secondImage = i\n",
    "    image2 = Image.open(secondImage)\n",
    "    resized_image2 = image2.resize((512, 512))\n",
    "    start = time.time()\n",
    "    metric = mse(np.array(resized_image1).flatten(), np.array(resized_image2).flatten())\n",
    "    end = time.time() - start\n",
    "    print('MSE:\\t',metric,'\\t Время работы:',end)"
   ]
  },
  {
   "cell_type": "code",
   "execution_count": 22,
   "id": "884733bb-6e73-4141-83a1-2cd4bf702387",
   "metadata": {},
   "outputs": [
    {
     "name": "stdout",
     "output_type": "stream",
     "text": [
      "NRMSE:\t 0.0 \t Время работы: 0.016964435577392578\n",
      "NRMSE:\t 0.7118635600479878 \t Время работы: 0.01647043228149414\n",
      "NRMSE:\t 0.8795072110064301 \t Время работы: 0.01656174659729004\n",
      "NRMSE:\t 0.9898871631986572 \t Время работы: 0.016595125198364258\n",
      "NRMSE:\t 0.9028859950637683 \t Время работы: 0.016904115676879883\n"
     ]
    }
   ],
   "source": [
    "firstImage = photos [0]\n",
    "image1 = Image.open(firstImage)\n",
    "resized_image1 = np.array(image1.resize((512, 512)))\n",
    "for i in photos:\n",
    "    secondImage = i\n",
    "    image2 = Image.open(secondImage)\n",
    "    resized_image2 = np.array(image2.resize((512, 512)))\n",
    "    \n",
    "    start = time.time()\n",
    "    metric = nrmse(resized_image1,resized_image2)\n",
    "    end = time.time() - start\n",
    "    print('NRMSE:\\t',metric,'\\t Время работы:',end)"
   ]
  },
  {
   "cell_type": "code",
   "execution_count": 23,
   "id": "1745502c-9efe-4baa-a610-e7e1bdf4c1ea",
   "metadata": {},
   "outputs": [
    {
     "name": "stdout",
     "output_type": "stream",
     "text": [
      "SSIM:\t 1.0 \t Время работы: 0.19803094863891602\n",
      "SSIM:\t 0.2616552756923031 \t Время работы: 0.1988680362701416\n",
      "SSIM:\t 0.26796520094049225 \t Время работы: 0.19939804077148438\n",
      "SSIM:\t 0.10441296503632697 \t Время работы: 0.19831204414367676\n",
      "SSIM:\t 0.10536387716135372 \t Время работы: 0.1990194320678711\n"
     ]
    }
   ],
   "source": [
    "firstImage = photos [0]\n",
    "image1 = Image.open(firstImage)\n",
    "resized_image1 = np.array(image1.resize((512, 512)))\n",
    "for i in photos:\n",
    "    secondImage = i\n",
    "    image2 = Image.open(secondImage)\n",
    "    resized_image2 = np.array(image2.resize((512, 512)))\n",
    "    start = time.time()\n",
    "    metric = ssim(resized_image1,resized_image2, win_size = 3)\n",
    "    end = time.time() - start\n",
    "    print('SSIM:\\t',metric,'\\t Время работы:',end)"
   ]
  },
  {
   "cell_type": "code",
   "execution_count": 24,
   "id": "d6c27a1c-dbc4-472d-80b0-2401630565d9",
   "metadata": {},
   "outputs": [
    {
     "name": "stderr",
     "output_type": "stream",
     "text": [
      "C:\\Python311\\Lib\\site-packages\\skimage\\metrics\\simple_metrics.py:163: RuntimeWarning: divide by zero encountered in scalar divide\n",
      "  return 10 * np.log10((data_range ** 2) / err)\n"
     ]
    },
    {
     "name": "stdout",
     "output_type": "stream",
     "text": [
      "PSNR:\t inf \t Время работы: 0.008180856704711914\n",
      "PSNR:\t 10.565777828235994 \t Время работы: 0.016399621963500977\n",
      "PSNR:\t 8.728924980810127 \t Время работы: 0.00816488265991211\n",
      "PSNR:\t 7.701999224211371 \t Время работы: 0.016398906707763672\n",
      "PSNR:\t 8.501054739794672 \t Время работы: 0.008228778839111328\n"
     ]
    }
   ],
   "source": [
    "firstImage = photos [0]\n",
    "image1 = Image.open(firstImage)\n",
    "resized_image1 = np.array(image1.resize((512, 512)))\n",
    "for i in photos:\n",
    "    secondImage = i\n",
    "    image2 = Image.open(secondImage)\n",
    "    resized_image2 = np.array(image2.resize((512, 512)))\n",
    "    start = time.time()\n",
    "    metric = psnr(resized_image1,resized_image2)\n",
    "    end = time.time() - start\n",
    "    print('PSNR:\\t',metric,'\\t Время работы:',end)"
   ]
  },
  {
   "cell_type": "code",
   "execution_count": 39,
   "id": "22296773-6736-4107-a927-7e1d56caaceb",
   "metadata": {},
   "outputs": [
    {
     "name": "stdout",
     "output_type": "stream",
     "text": [
      "MAE:\t 0.0 \t Время работы: 0.0\n",
      "MAE:\t 127.92870330810547 \t Время работы: 0.007977485656738281\n",
      "MAE:\t 120.8450813293457 \t Время работы: 0.007982492446899414\n",
      "MAE:\t 139.03753026326498 \t Время работы: 0.008000373840332031\n",
      "MAE:\t 122.22518539428711 \t Время работы: 0.007982492446899414\n"
     ]
    }
   ],
   "source": [
    "firstImage = photos [0]\n",
    "image1 = Image.open(firstImage)\n",
    "resized_image1 = image1.resize((512, 512))\n",
    "for i in photos:\n",
    "    secondImage = i\n",
    "    image2 = Image.open(secondImage)\n",
    "    resized_image2 = image2.resize((512, 512))\n",
    "    start = time.time()\n",
    "    metric = mae(np.array(resized_image1).flatten(), np.array(resized_image2).flatten())\n",
    "    end = time.time() - start\n",
    "    print('MAE:\\t',metric,'\\t Время работы:',end)"
   ]
  },
  {
   "cell_type": "code",
   "execution_count": 19,
   "id": "bd5d04d9-a70a-4a59-89b5-b3688546cc2d",
   "metadata": {},
   "outputs": [
    {
     "name": "stdout",
     "output_type": "stream",
     "text": [
      "NMI:\t 1.9999999999999996 \t Время работы: 0.06458377838134766\n",
      "NMI:\t 1.0076623795516932 \t Время работы: 0.06424188613891602\n",
      "NMI:\t 1.0082683300846504 \t Время работы: 0.05790400505065918\n",
      "NMI:\t 1.009870389390627 \t Время работы: 0.05792593955993652\n",
      "NMI:\t 1.0082041476437031 \t Время работы: 0.057512760162353516\n"
     ]
    }
   ],
   "source": [
    "firstImage = photos [0]\n",
    "image1 = Image.open(firstImage)\n",
    "resized_image1 = image1.resize((512, 512))\n",
    "for i in photos:\n",
    "    secondImage = i\n",
    "    image2 = Image.open(secondImage)\n",
    "    resized_image2 = image2.resize((512, 512))\n",
    "    start = time.time()\n",
    "    metric = nmi(np.array(resized_image1).flatten(), np.array(resized_image2).flatten())\n",
    "    end = time.time() - start\n",
    "    print('NMI:\\t',metric,'\\t Время работы:',end)"
   ]
  },
  {
   "cell_type": "code",
   "execution_count": 6,
   "id": "4897dca1-ca4c-482c-b89b-45d31f788661",
   "metadata": {},
   "outputs": [],
   "source": [
    "k = 0\n",
    "for i in photos:\n",
    "    image = Image.open(i)\n",
    "    resized_image = image.resize((512,512))\n",
    "    output_path = \"pillowImage/\"+str(k)+\".jpg\"\n",
    "    resized_image.save(output_path, format=\"JPEG\", quality=100)\n",
    "    k+=1"
   ]
  },
  {
   "cell_type": "code",
   "execution_count": 9,
   "id": "540ed883-0a62-404a-818b-1f091b797de5",
   "metadata": {},
   "outputs": [
    {
     "name": "stdout",
     "output_type": "stream",
     "text": [
      "['pillowImage\\\\0.jpg', 'pillowImage\\\\1.jpg', 'pillowImage\\\\2.jpg', 'pillowImage\\\\3.jpg', 'pillowImage\\\\4.jpg']\n"
     ]
    }
   ],
   "source": [
    "PILphotos = []\n",
    "for address, dirs, files in os.walk('pillowImage'):\n",
    "    for name in files:\n",
    "        PILphotos.append(os.path.join(address, name))\n",
    "print(PILphotos)"
   ]
  },
  {
   "cell_type": "code",
   "execution_count": 17,
   "id": "3793bc60-38f5-41cc-842b-802d18daa430",
   "metadata": {},
   "outputs": [
    {
     "name": "stdout",
     "output_type": "stream",
     "text": [
      "fsim:\t {'fsim': 1.0} \t Время работы: 7.782020568847656\n",
      "fsim:\t {'fsim': 0.2942755492019136} \t Время работы: 6.53281307220459\n",
      "fsim:\t {'fsim': 0.30780823577418465} \t Время работы: 6.467423915863037\n",
      "fsim:\t {'fsim': 0.29277764813395935} \t Время работы: 6.479194164276123\n",
      "fsim:\t {'fsim': 0.29895037168354216} \t Время работы: 6.546230792999268\n"
     ]
    }
   ],
   "source": [
    "for i in PILphotos:\n",
    "    start = time.time()\n",
    "    metric = evaluation(org_img_path=PILphotos[0], pred_img_path=i, metrics=[\"fsim\"])\n",
    "    end = time.time() - start\n",
    "    print('fsim:\\t',metric,'\\t Время работы:',end)"
   ]
  },
  {
   "cell_type": "code",
   "execution_count": 16,
   "id": "95cc745b-276a-4699-b989-bed82141cc12",
   "metadata": {},
   "outputs": [
    {
     "name": "stdout",
     "output_type": "stream",
     "text": [
      "sre:\t {'sre': inf} \t Время работы: 0.020467042922973633\n",
      "sre:\t {'sre': 47.331167129423484} \t Время работы: 0.016661643981933594\n",
      "sre:\t {'sre': 46.42898419553024} \t Время работы: 0.024005413055419922\n",
      "sre:\t {'sre': 45.857042588998794} \t Время работы: 0.016401052474975586\n",
      "sre:\t {'sre': 46.25974586557614} \t Время работы: 0.016009807586669922\n"
     ]
    }
   ],
   "source": [
    "for i in PILphotos:\n",
    "    start = time.time()\n",
    "    metric = evaluation(org_img_path=PILphotos[0], pred_img_path=i, metrics=[\"sre\"])\n",
    "    end = time.time() - start\n",
    "    print('sre:\\t',metric,'\\t Время работы:',end)"
   ]
  },
  {
   "cell_type": "code",
   "execution_count": 13,
   "id": "afd53e68-8596-4b32-b106-11ec45ba0aaf",
   "metadata": {},
   "outputs": [
    {
     "name": "stdout",
     "output_type": "stream",
     "text": [
      "sam:\t {'sam': 85.20132111281954} \t Время работы: 0.04957389831542969\n",
      "sam:\t {'sam': 87.56469217369668} \t Время работы: 0.040343523025512695\n",
      "sam:\t {'sam': 88.3687366671536} \t Время работы: 0.04161357879638672\n",
      "sam:\t {'sam': 87.62755021965323} \t Время работы: 0.04903531074523926\n",
      "sam:\t {'sam': 88.21498021751286} \t Время работы: 0.042154788970947266\n"
     ]
    }
   ],
   "source": [
    "for i in PILphotos:\n",
    "    start = time.time()\n",
    "    metric = evaluation(org_img_path=PILphotos[0], pred_img_path=i, metrics=[\"sam\"])\n",
    "    end = time.time() - start\n",
    "    print('sam:\\t',metric,'\\t Время работы:',end)"
   ]
  },
  {
   "cell_type": "code",
   "execution_count": 15,
   "id": "c0ef3f7c-d69c-46ec-98d0-fd2cc058d5dc",
   "metadata": {},
   "outputs": [
    {
     "name": "stdout",
     "output_type": "stream",
     "text": [
      "uiq:\t {'uiq': 1.0000000164068878} \t Время работы: 27.501699924468994\n",
      "uiq:\t {'uiq': 0.004756391807821634} \t Время работы: 26.12180495262146\n",
      "uiq:\t {'uiq': -0.0006283974089321636} \t Время работы: 26.138890504837036\n",
      "uiq:\t {'uiq': 0.0020281305624202687} \t Время работы: 26.13597059249878\n",
      "uiq:\t {'uiq': 0.0013399964953630412} \t Время работы: 27.092639923095703\n"
     ]
    }
   ],
   "source": [
    "for i in PILphotos:\n",
    "    start = time.time()\n",
    "    metric = evaluation(org_img_path=PILphotos[0], pred_img_path=i, metrics=[\"uiq\"])\n",
    "    end = time.time() - start\n",
    "    print('uiq:\\t',metric,'\\t Время работы:',end)"
   ]
  },
  {
   "cell_type": "code",
   "execution_count": null,
   "id": "28dde63e-e80a-430b-b940-430bb28b2d76",
   "metadata": {},
   "outputs": [],
   "source": []
  }
 ],
 "metadata": {
  "kernelspec": {
   "display_name": "Python 3 (ipykernel)",
   "language": "python",
   "name": "python3"
  },
  "language_info": {
   "codemirror_mode": {
    "name": "ipython",
    "version": 3
   },
   "file_extension": ".py",
   "mimetype": "text/x-python",
   "name": "python",
   "nbconvert_exporter": "python",
   "pygments_lexer": "ipython3",
   "version": "3.11.5"
  }
 },
 "nbformat": 4,
 "nbformat_minor": 5
}
