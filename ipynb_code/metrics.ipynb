{
 "cells": [
  {
   "cell_type": "markdown",
   "metadata": {},
   "source": [
    "# Сканирование директории"
   ]
  },
  {
   "cell_type": "code",
   "execution_count": 33,
   "metadata": {},
   "outputs": [
    {
     "name": "stdout",
     "output_type": "stream",
     "text": [
      "['C:/Users/sharj/Desktop/Учёба/Учебная практика (5 сем.)/datasets/metricks_test\\\\047.jpg', 'C:/Users/sharj/Desktop/Учёба/Учебная практика (5 сем.)/datasets/metricks_test\\\\055.jpg', 'C:/Users/sharj/Desktop/Учёба/Учебная практика (5 сем.)/datasets/metricks_test\\\\121.jpg', 'C:/Users/sharj/Desktop/Учёба/Учебная практика (5 сем.)/datasets/metricks_test\\\\160.jpg', 'C:/Users/sharj/Desktop/Учёба/Учебная практика (5 сем.)/datasets/metricks_test\\\\163.jpg']\n"
     ]
    }
   ],
   "source": [
    "import os\n",
    "\n",
    "# Path_to_5_Photos C:\\Users\\sharj\\Desktop\\Учёба\\Учебная практика (5 сем.)\\datasets\\metricks_test\n",
    "\n",
    "photos = []\n",
    "for address, dirs, files in os.walk('C:/Users/sharj/Desktop/Учёба/Учебная практика (5 сем.)/datasets/metricks_test'):\n",
    "    for name in files:\n",
    "        photos.append(os.path.join(address, name))\n",
    "print(photos)"
   ]
  },
  {
   "cell_type": "markdown",
   "metadata": {},
   "source": [
    "## Pix-to-Pix сравнение"
   ]
  },
  {
   "cell_type": "markdown",
   "metadata": {},
   "source": [
    "### Для этого и всех последующих сравнений берётся первая фотография и сравнивается со всеми пятью (включая сравнение с собой же)"
   ]
  },
  {
   "cell_type": "code",
   "execution_count": 92,
   "metadata": {},
   "outputs": [
    {
     "name": "stdout",
     "output_type": "stream",
     "text": [
      "P2P:\tИзображения идентичны.\tВремя работы:\t0.000\n",
      "P2P:\tИзображения различны.\tВремя работы:\t0.000\n",
      "P2P:\tИзображения различны.\tВремя работы:\t0.001\n",
      "P2P:\tИзображения различны.\tВремя работы:\t0.000\n",
      "P2P:\tИзображения различны.\tВремя работы:\t0.000\n"
     ]
    }
   ],
   "source": [
    "from PIL import Image\n",
    "import numpy as np\n",
    "import time \n",
    "\n",
    "resized_image1 = Image.open(photos[0]).resize((512, 512))\n",
    "\n",
    "for photo in photos:\n",
    "    secondImage = photo\n",
    "    image2 = Image.open(secondImage)\n",
    "    resized_image2 = np.array(image2.resize((512, 512)))\n",
    "    \n",
    "    start = time.time()\n",
    "    are_equal = np.array_equal(np.array(resized_image1), np.array(resized_image2))\n",
    "    end = time.time() - start\n",
    "    \n",
    "    if are_equal:\n",
    "        print(f\"P2P:\\tИзображения идентичны.\\tВремя работы:\\t{end:.3f}\")\n",
    "    else:\n",
    "        print(f\"P2P:\\tИзображения различны.\\tВремя работы:\\t{end:.3f}\")"
   ]
  },
  {
   "cell_type": "markdown",
   "metadata": {},
   "source": [
    "## MSE"
   ]
  },
  {
   "cell_type": "code",
   "execution_count": 84,
   "metadata": {},
   "outputs": [
    {
     "name": "stdout",
     "output_type": "stream",
     "text": [
      "MSE:\t0.000\tВремя работы:\t0.007\n",
      "MSE:\t100.608\tВремя работы:\t0.006\n",
      "MSE:\t103.877\tВремя работы:\t0.006\n",
      "MSE:\t105.660\tВремя работы:\t0.006\n",
      "MSE:\t103.673\tВремя работы:\t0.007\n"
     ]
    }
   ],
   "source": [
    "from sklearn.metrics import mean_squared_error as mse\n",
    "import numpy as np\n",
    "import time \n",
    "\n",
    "for photo in photos:\n",
    "    secondImage = photo\n",
    "    image2 = Image.open(secondImage)\n",
    "    resized_image2 = np.array(image2.resize((512, 512)))\n",
    "    \n",
    "    start = time.time()\n",
    "    metric = mse(np.array(resized_image1).reshape(-1, 2), np.array(resized_image2).reshape(-1, 2))\n",
    "    end = time.time() - start\n",
    "    print(f\"MSE:\\t{metric:.3f}\\tВремя работы:\\t{end:.3f}\")"
   ]
  },
  {
   "cell_type": "markdown",
   "metadata": {},
   "source": [
    "## NRMSE"
   ]
  },
  {
   "cell_type": "code",
   "execution_count": 95,
   "metadata": {},
   "outputs": [
    {
     "name": "stdout",
     "output_type": "stream",
     "text": [
      "NRMSE:\t0.000\tВремя работы:\t0.011\n",
      "NRMSE:\t0.712\tВремя работы:\t0.011\n",
      "NRMSE:\t0.880\tВремя работы:\t0.013\n",
      "NRMSE:\t0.990\tВремя работы:\t0.013\n",
      "NRMSE:\t0.903\tВремя работы:\t0.013\n"
     ]
    }
   ],
   "source": [
    "from skimage.metrics import normalized_root_mse as nrmse\n",
    "import numpy as np\n",
    "import time \n",
    "\n",
    "for photo in photos:\n",
    "    secondImage = photo\n",
    "    image2 = Image.open(secondImage)\n",
    "    resized_image2 = np.array(image2.resize((512, 512)))\n",
    "    \n",
    "    start = time.time()\n",
    "    metric = nrmse(np.array(resized_image1).reshape(-1, 2), np.array(resized_image2).reshape(-1, 2))\n",
    "    end = time.time() - start\n",
    "    print(f\"NRMSE:\\t{metric:.3f}\\tВремя работы:\\t{end:.3f}\")"
   ]
  },
  {
   "cell_type": "markdown",
   "metadata": {},
   "source": [
    "## SSIM"
   ]
  },
  {
   "cell_type": "code",
   "execution_count": 75,
   "metadata": {},
   "outputs": [
    {
     "name": "stdout",
     "output_type": "stream",
     "text": [
      "SSIM:\t1.000\tВремя работы:\t0.131\n",
      "SSIM:\t0.262\tВремя работы:\t0.133\n",
      "SSIM:\t0.268\tВремя работы:\t0.131\n",
      "SSIM:\t0.104\tВремя работы:\t0.123\n",
      "SSIM:\t0.105\tВремя работы:\t0.133\n"
     ]
    }
   ],
   "source": [
    "from skimage.metrics import structural_similarity as ssim\n",
    "\n",
    "for photo in photos:\n",
    "    secondImage = photo\n",
    "    image2 = Image.open(secondImage)\n",
    "    resized_image2 = np.array(image2.resize((512, 512)))\n",
    "    \n",
    "    start = time.time()\n",
    "    metric = ssim(im1 = np.array(resized_image1), im2 = np.array(resized_image2), win_size = 3)\n",
    "    end = time.time() - start\n",
    "    print(f\"SSIM:\\t{metric:.3f}\\tВремя работы:\\t{end:.3f}\")"
   ]
  },
  {
   "cell_type": "markdown",
   "metadata": {},
   "source": [
    "## PSNR"
   ]
  },
  {
   "cell_type": "code",
   "execution_count": 79,
   "metadata": {},
   "outputs": [
    {
     "name": "stderr",
     "output_type": "stream",
     "text": [
      "c:\\Users\\sharj\\AppData\\Local\\Programs\\Python\\Python312\\Lib\\site-packages\\skimage\\metrics\\simple_metrics.py:163: RuntimeWarning: divide by zero encountered in scalar divide\n",
      "  return 10 * np.log10((data_range ** 2) / err)\n"
     ]
    },
    {
     "name": "stdout",
     "output_type": "stream",
     "text": [
      "PSNR:\tinf\tВремя работы:\t0.011\n",
      "PSNR:\t10.566\tВремя работы:\t0.012\n",
      "PSNR:\t8.729\tВремя работы:\t0.009\n",
      "PSNR:\t7.702\tВремя работы:\t0.010\n",
      "PSNR:\t8.501\tВремя работы:\t0.010\n"
     ]
    }
   ],
   "source": [
    "from skimage.metrics import peak_signal_noise_ratio as psnr\n",
    "\n",
    "for photo in photos:\n",
    "    secondImage = photo\n",
    "    image2 = Image.open(secondImage)\n",
    "    resized_image2 = np.array(image2.resize((512, 512)))\n",
    "    \n",
    "    start = time.time()\n",
    "    metric = psnr(np.array(resized_image1), np.array(resized_image2))\n",
    "    end = time.time() - start\n",
    "    print(f\"PSNR:\\t{metric:.3f}\\tВремя работы:\\t{end:.3f}\")"
   ]
  },
  {
   "cell_type": "markdown",
   "metadata": {},
   "source": [
    "## MAE"
   ]
  },
  {
   "cell_type": "code",
   "execution_count": 80,
   "metadata": {},
   "outputs": [
    {
     "name": "stdout",
     "output_type": "stream",
     "text": [
      "MAE:\t0.000\tВремя работы:\t0.002\n",
      "MAE:\t127.929\tВремя работы:\t0.002\n",
      "MAE:\t120.845\tВремя работы:\t0.003\n",
      "MAE:\t139.038\tВремя работы:\t0.002\n",
      "MAE:\t122.225\tВремя работы:\t0.002\n"
     ]
    }
   ],
   "source": [
    "from sklearn.metrics import mean_absolute_error as mae\n",
    "\n",
    "for photo in photos:\n",
    "    secondImage = photo\n",
    "    image2 = Image.open(secondImage)\n",
    "    resized_image2 = np.array(image2.resize((512, 512)))\n",
    "    \n",
    "    start = time.time()\n",
    "    metric = mae(np.array(resized_image1).flatten(), np.array(resized_image2).flatten())\n",
    "    end = time.time() - start\n",
    "    print(f\"MAE:\\t{metric:.3f}\\tВремя работы:\\t{end:.3f}\")"
   ]
  },
  {
   "cell_type": "markdown",
   "metadata": {},
   "source": [
    "## NMI"
   ]
  },
  {
   "cell_type": "code",
   "execution_count": 82,
   "metadata": {},
   "outputs": [
    {
     "name": "stdout",
     "output_type": "stream",
     "text": [
      "NMI:\t2.000\tВремя работы:\t0.045\n",
      "NMI:\t1.008\tВремя работы:\t0.047\n",
      "NMI:\t1.008\tВремя работы:\t0.047\n",
      "NMI:\t1.010\tВремя работы:\t0.064\n",
      "NMI:\t1.008\tВремя работы:\t0.063\n"
     ]
    }
   ],
   "source": [
    "from skimage.metrics import normalized_mutual_information as nmi\n",
    "\n",
    "for photo in photos:\n",
    "    secondImage = photo\n",
    "    image2 = Image.open(secondImage)\n",
    "    resized_image2 = np.array(image2.resize((512, 512)))\n",
    "    \n",
    "    start = time.time()\n",
    "    metric = nmi(np.array(resized_image1).flatten(), np.array(resized_image2).flatten())\n",
    "    end = time.time() - start\n",
    "    print(f\"NMI:\\t{metric:.3f}\\tВремя работы:\\t{end:.3f}\")"
   ]
  },
  {
   "cell_type": "markdown",
   "metadata": {},
   "source": [
    "## FSIM, SRE, SAM, UIQ"
   ]
  },
  {
   "cell_type": "markdown",
   "metadata": {},
   "source": [
    "### Пробовали ставить библиотеку, ставится только на Python 3.11, на 3.12 не хочет. Пытались найти причину и решение, но к сожалению пока не нашли. Исполнение на 3.12 смотрите в файле metics_test.ipynb"
   ]
  },
  {
   "cell_type": "code",
   "execution_count": 90,
   "metadata": {},
   "outputs": [],
   "source": [
    "# from image_similarity_measures.evaluate import evaluation\n",
    "\n",
    "# for photo in photos:\n",
    "#     secondImage = photo\n",
    "#     image2 = Image.open(secondImage)\n",
    "#     resized_image2 = np.array(image2.resize((512, 512)))\n",
    "    \n",
    "#     start = time.time()\n",
    "#     metric = nmi(np.array(resized_image1).flatten(), np.array(resized_image2).flatten())\n",
    "#     end = time.time() - start\n",
    "#     print(f\"NMI:\\t{metric:.3f}\\tВремя работы:\\t{end:.3f}\")"
   ]
  },
  {
   "cell_type": "markdown",
   "metadata": {},
   "source": [
    "## Вывод:"
   ]
  },
  {
   "cell_type": "markdown",
   "metadata": {},
   "source": [
    "#### 1. Pix2Pix:\n",
    "    a) Самая большая скорость работы\n",
    "    b) Распознает только абсолютно одинаковые изображения\n",
    "    c) Не требует дополнительных библиотек кроме Pillow и Numpy\n",
    "#### 2. MSE:\n",
    "    a) Высокая скорость работы\n",
    "    b) На изображениях со схожими тенями постройки показатели сходятся с показателями на изображениях без этой тени\n",
    "#### 3. NRMSE \n",
    "    a) Время работы больше чем MSE\n",
    "    b) На изображениях со схожими тенями заметно меньше показатель(большее сходство изображений)\n",
    "#### 4. SSIM\n",
    "    a) Время работы еще больше чем NRMSE\n",
    "    b) У изображений с похожей тенью одинаково больше показатель чем у двух прочих\n",
    "#### 5. PSNR\n",
    "    a) Время работы наравне с NRMSE\n",
    "    b) Большой диапазон значений, большая разница в сравнении\n",
    "#### 6. MAE\n",
    "    a) Высокая скорость работы, немного дольше P2P\n",
    "    b) На изображениях с видимым сходством наоборот значение более высокое. Возможно сравнивает по нестандартным значениям.\n",
    "#### 7. NMI\n",
    "    a) Время работы незначительно больше NRMSE\n",
    "    b) Примерно одинаковые значения при сравнении (при значениях в три знака после запятой), возможно более детализированное сравнение.\n",
    "#### 5. FSIM\n",
    "    a) Большое время выполнения\n",
    "    b) У отличающихся изображений схожий показтель\n",
    "#### 6.\tSRE\n",
    "    a) Небольшое время выполнения\n",
    "    b) Схожий показатель для разных изображений\n",
    "#### 7.\tSAM\n",
    "    a) Небольшое время выполнения\n",
    "    b) Показатели почти полностью одинаковые(даже при сравнении с таким же изображением)\n",
    "#### 8.\tUIQ\n",
    "    a) Очень долгое время выполнения( в несколько раз больше чем у fsim)\n",
    "    b) Для других изображений показатели около 0, возможно требуется сравнивать одинаковое изображение разного качества\n"
   ]
  }
 ],
 "metadata": {
  "kernelspec": {
   "display_name": "Python 3",
   "language": "python",
   "name": "python3"
  },
  "language_info": {
   "codemirror_mode": {
    "name": "ipython",
    "version": 3
   },
   "file_extension": ".py",
   "mimetype": "text/x-python",
   "name": "python",
   "nbconvert_exporter": "python",
   "pygments_lexer": "ipython3",
   "version": "3.12.0"
  }
 },
 "nbformat": 4,
 "nbformat_minor": 2
}
